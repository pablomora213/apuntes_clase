{
 "cells": [
  {
   "cell_type": "markdown",
   "metadata": {},
   "source": [
    "# Programación Funcional"
   ]
  },
  {
   "cell_type": "markdown",
   "metadata": {},
   "source": [
    "![elgif](https://media.giphy.com/media/CuMiNoTRz2bYc/giphy.gif)"
   ]
  },
  {
   "cell_type": "markdown",
   "metadata": {
    "toc": true
   },
   "source": [
    "<h1>Table of Contents<span class=\"tocSkip\"></span></h1>\n",
    "<div class=\"toc\"><ul class=\"toc-item\"><li><span><a href=\"#Vuestras-aportaciones-🚀\" data-toc-modified-id=\"Vuestras-aportaciones-🚀-1\"><span class=\"toc-item-num\">1&nbsp;&nbsp;</span>Vuestras aportaciones 🚀</a></span></li><li><span><a href=\"#¿Qué-es-la-programación-funcional?\" data-toc-modified-id=\"¿Qué-es-la-programación-funcional?-2\"><span class=\"toc-item-num\">2&nbsp;&nbsp;</span>¿Qué es la programación funcional?</a></span></li><li><span><a href=\"#Funciones-Built-in\" data-toc-modified-id=\"Funciones-Built-in-3\"><span class=\"toc-item-num\">3&nbsp;&nbsp;</span>Funciones Built-in</a></span></li><li><span><a href=\"#Extraer-el-código-fuente-de-una-función\" data-toc-modified-id=\"Extraer-el-código-fuente-de-una-función-4\"><span class=\"toc-item-num\">4&nbsp;&nbsp;</span>Extraer el código fuente de una función</a></span></li><li><span><a href=\"#Sintaxis-de-las-funciones\" data-toc-modified-id=\"Sintaxis-de-las-funciones-5\"><span class=\"toc-item-num\">5&nbsp;&nbsp;</span>Sintaxis de las funciones</a></span></li><li><span><a href=\"#Parámetros-vs-Argumentos\" data-toc-modified-id=\"Parámetros-vs-Argumentos-6\"><span class=\"toc-item-num\">6&nbsp;&nbsp;</span>Parámetros vs Argumentos</a></span></li><li><span><a href=\"#Funciones-que-no-tienen-parámetros\" data-toc-modified-id=\"Funciones-que-no-tienen-parámetros-7\"><span class=\"toc-item-num\">7&nbsp;&nbsp;</span>Funciones que no tienen parámetros</a></span></li><li><span><a href=\"#Funciones-que-no-tienen-return\" data-toc-modified-id=\"Funciones-que-no-tienen-return-8\"><span class=\"toc-item-num\">8&nbsp;&nbsp;</span>Funciones que no tienen return</a></span></li><li><span><a href=\"#Escribamos-funciones\" data-toc-modified-id=\"Escribamos-funciones-9\"><span class=\"toc-item-num\">9&nbsp;&nbsp;</span>Escribamos funciones</a></span></li><li><span><a href=\"#Parámetros-por-defecto\" data-toc-modified-id=\"Parámetros-por-defecto-10\"><span class=\"toc-item-num\">10&nbsp;&nbsp;</span>Parámetros por defecto</a></span><ul class=\"toc-item\"><li><ul class=\"toc-item\"><li><span><a href=\"#Otro-ejemplo\" data-toc-modified-id=\"Otro-ejemplo-10.0.1\"><span class=\"toc-item-num\">10.0.1&nbsp;&nbsp;</span>Otro ejemplo</a></span></li></ul></li></ul></li><li><span><a href=\"#PARFAVAR-No-confundamos-los-PRINT-dentro-de-una-función-con-los-RETURN!\" data-toc-modified-id=\"PARFAVAR-No-confundamos-los-PRINT-dentro-de-una-función-con-los-RETURN!-11\"><span class=\"toc-item-num\">11&nbsp;&nbsp;</span>PARFAVAR No confundamos los PRINT dentro de una función con los RETURN!</a></span></li><li><span><a href=\"#Docstring\" data-toc-modified-id=\"Docstring-12\"><span class=\"toc-item-num\">12&nbsp;&nbsp;</span>Docstring</a></span></li><li><span><a href=\"#Scope-de-las-funciones\" data-toc-modified-id=\"Scope-de-las-funciones-13\"><span class=\"toc-item-num\">13&nbsp;&nbsp;</span>Scope de las funciones</a></span></li><li><span><a href=\"#*Args\" data-toc-modified-id=\"*Args-14\"><span class=\"toc-item-num\">14&nbsp;&nbsp;</span>*Args</a></span><ul class=\"toc-item\"><li><span><a href=\"#Otro-ejemplo:\" data-toc-modified-id=\"Otro-ejemplo:-14.1\"><span class=\"toc-item-num\">14.1&nbsp;&nbsp;</span>Otro ejemplo:</a></span></li></ul></li><li><span><a href=\"#**Kwargs\" data-toc-modified-id=\"**Kwargs-15\"><span class=\"toc-item-num\">15&nbsp;&nbsp;</span>**Kwargs</a></span></li><li><span><a href=\"#El-orden-importa\" data-toc-modified-id=\"El-orden-importa-16\"><span class=\"toc-item-num\">16&nbsp;&nbsp;</span>El orden importa</a></span></li><li><span><a href=\"#Lambda\" data-toc-modified-id=\"Lambda-17\"><span class=\"toc-item-num\">17&nbsp;&nbsp;</span>Lambda</a></span><ul class=\"toc-item\"><li><span><a href=\"#Sintaxis-de-una-lambda\" data-toc-modified-id=\"Sintaxis-de-una-lambda-17.1\"><span class=\"toc-item-num\">17.1&nbsp;&nbsp;</span>Sintaxis de una lambda</a></span></li><li><span><a href=\"#Ejemplos-de-lambda\" data-toc-modified-id=\"Ejemplos-de-lambda-17.2\"><span class=\"toc-item-num\">17.2&nbsp;&nbsp;</span>Ejemplos de lambda</a></span></li><li><span><a href=\"#Hagámoslo-Fácil-🙃\" data-toc-modified-id=\"Hagámoslo-Fácil-🙃-17.3\"><span class=\"toc-item-num\">17.3&nbsp;&nbsp;</span>Hagámoslo Fácil 🙃</a></span></li></ul></li><li><span><a href=\"#Recursividad\" data-toc-modified-id=\"Recursividad-18\"><span class=\"toc-item-num\">18&nbsp;&nbsp;</span>Recursividad</a></span></li><li><span><a href=\"#Resumen\" data-toc-modified-id=\"Resumen-19\"><span class=\"toc-item-num\">19&nbsp;&nbsp;</span>Resumen</a></span></li></ul></div>"
   ]
  },
  {
   "cell_type": "markdown",
   "metadata": {},
   "source": [
    "## Vuestras aportaciones 🚀\n",
    "\n",
    "- Bloque de código que se puede reutilizar\n",
    "- Las definimos con \"def\" ....\n",
    "- Puedes hacer operaciones matemáticas dentro\n",
    "- El output de la función lo ponemos en el return\n",
    "- Para guardar el output tenemos que almacenarlo en una variable\n",
    "- Puedes crearla tu o usar las de la libreria\n",
    "- Pueden tener parámetros\n",
    "- Puede funcionar sin tener argumentos\n",
    "- Nos sirven para simplificar el código\n",
    "- Necesita un nombre\n",
    "- Hay que llamarlas para que funcionen\n",
    "- Cuando llamas a la función tienes que poner los argumentos que requiera dentro del paréntesis.\n",
    "- Hace nuestra programación más eficiente\n",
    "- Puedes meter listas dentro de la función.\n",
    "- Todo lo que esté incluido en la función tiene que ir identado.\n",
    "- Existen funciones anónimas\n",
    "- Las variables que definamos dentro de la función serán locales. Las definidas fuera son variable globales."
   ]
  },
  {
   "cell_type": "markdown",
   "metadata": {},
   "source": [
    "## ¿Qué es la programación funcional?\n",
    "¿Qué significa que Python es multiparadigma?\n",
    "Según Wikipedia:\n",
    "\n",
    "“Python es un lenguaje de programación interpretado cuya filosofía hace hincapié en la legibilidad de su código. Se trata de un lenguaje de programación multiparadigma, ya que soporta orientación a objetos, programación imperativa y, en menor medida, programación funcional.”\n",
    "\n",
    "Quiere decir que acepta diversas formar de trabajar con el lenguaje. Básicamente existen 3 paradigmas predominantes, o dicho de otra manera, 3 formatos globales de organizar un código.\n",
    "\n",
    "**Programación imperativa (estructurada)**: el código será ejecutado desde el principio del fichero al final sin seguir ningún tipo de desviación. Su mayor ventaja radica en su simplicidad y poco peso. Su peligrosidad es el código espagueti, archivos con centenares o miles de líneas donde solo unos pocos seres humanos son capaces de modificar y salir victoriosos.\n",
    "\n",
    "**Programación orientada a objetos (OOP o Object Oriented Programming)**: donde se encapsulan las variables y funciones en pequeños módulos capaces de clonarse y modificarse. Su punto fuerte es la capacidad de re-utilización y aislamiento para evitar problemas con otras funcionalidades. La parte negativa recae en la complejidad de crear buenos objetos y la depuración.\n",
    "\n",
    "**Programación funcional (FP o Functional programming)**: donde el código se reparte en sencillas funciones capaces de ser invocadas con variables u otras funciones. Su facilidad de uso por atomicidad logra un mantenimiento sólido y compatible con casi cualquier lenguaje. Además su inmutabilidad de variables evita gran parte de los problemas que si sufre la programación orientada a objetos."
   ]
  },
  {
   "cell_type": "code",
   "execution_count": 1,
   "metadata": {},
   "outputs": [],
   "source": [
    "def primerfuncion ():\n",
    "    pass"
   ]
  },
  {
   "cell_type": "markdown",
   "metadata": {},
   "source": [
    "## Funciones Built-in "
   ]
  },
  {
   "cell_type": "markdown",
   "metadata": {},
   "source": [
    "El intérprete de Python tiene una serie de funciones y tipos incluidos en él que están siempre disponibles. Están listados [aquí](https://docs.python.org/es/3/library/functions.html?highlight=built) en orden alfabético."
   ]
  },
  {
   "cell_type": "markdown",
   "metadata": {},
   "source": [
    "## Extraer el código fuente de una función\n",
    "Ya que hablamos de las built-int, por curiosidad, si necesitamos extraer el código de una función escrita anteriormente.....\n"
   ]
  },
  {
   "cell_type": "code",
   "execution_count": 2,
   "metadata": {},
   "outputs": [
    {
     "name": "stdout",
     "output_type": "stream",
     "text": [
      "def primerfuncion ():\n",
      "    pass\n",
      "\n"
     ]
    }
   ],
   "source": [
    "import inspect\n",
    "print(inspect.getsource(primerfuncion))"
   ]
  },
  {
   "cell_type": "markdown",
   "metadata": {},
   "source": [
    "En caso de las built-in functions no podemos extraer el código con inspect, ya que Python en sí mismo está escrito en C... la función Print tiene este aspecto 👇🏻"
   ]
  },
  {
   "cell_type": "markdown",
   "metadata": {},
   "source": [
    "```C\n",
    "static PyObject *\n",
    "builtin_print(PyObject *self, PyObject *args, PyObject *kwds)\n",
    "{\n",
    "    static char *kwlist[] = {\"sep\", \"end\", \"file\", 0};\n",
    "    static PyObject *dummy_args = NULL;\n",
    "    static PyObject *unicode_newline = NULL, *unicode_space = NULL;\n",
    "    static PyObject *str_newline = NULL, *str_space = NULL;\n",
    "    PyObject *newline, *space;\n",
    "    PyObject *sep = NULL, *end = NULL, *file = NULL;\n",
    "    int i, err, use_unicode = 0;\n",
    "\n",
    "    if (dummy_args == NULL) {\n",
    "        if (!(dummy_args = PyTuple_New(0)))\n",
    "            return NULL;\n",
    "    }\n",
    "    if (str_newline == NULL) {\n",
    "        str_newline = PyString_FromString(\"\\n\");\n",
    "        if (str_newline == NULL)\n",
    "            return NULL;\n",
    "        str_space = PyString_FromString(\" \");\n",
    "        if (str_space == NULL) {\n",
    "            Py_CLEAR(str_newline);\n",
    "            return NULL;\n",
    "        }\n",
    "#ifdef Py_USING_UNICODE\n",
    "        unicode_newline = PyUnicode_FromString(\"\\n\");\n",
    "        if (unicode_newline == NULL) {\n",
    "            Py_CLEAR(str_newline);\n",
    "            Py_CLEAR(str_space);\n",
    "            return NULL;\n",
    "        }\n",
    "        unicode_space = PyUnicode_FromString(\" \");\n",
    "        if (unicode_space == NULL) {\n",
    "            Py_CLEAR(str_newline);\n",
    "            Py_CLEAR(str_space);\n",
    "            Py_CLEAR(unicode_space);\n",
    "            return NULL;\n",
    "        }\n",
    "#endif\n",
    "    }\n",
    "    if (!PyArg_ParseTupleAndKeywords(dummy_args, kwds, \"|OOO:print\",\n",
    "                                     kwlist, &sep, &end, &file))\n",
    "        return NULL;\n",
    "    if (file == NULL || file == Py_None) {\n",
    "        file = PySys_GetObject(\"stdout\");\n",
    "        /* sys.stdout may be None when FILE* stdout isn't connected */\n",
    "        if (file == Py_None)\n",
    "            Py_RETURN_NONE;\n",
    "    }\n",
    "    if (sep == Py_None) {\n",
    "        sep = NULL;\n",
    "    }\n",
    "    else if (sep) {\n",
    "        if (PyUnicode_Check(sep)) {\n",
    "            use_unicode = 1;\n",
    "        }\n",
    "        else if (!PyString_Check(sep)) {\n",
    "            PyErr_Format(PyExc_TypeError,\n",
    "                         \"sep must be None, str or unicode, not %.200s\",\n",
    "                         sep->ob_type->tp_name);\n",
    "            return NULL;\n",
    "        }\n",
    "    }\n",
    "    if (end == Py_None)\n",
    "        end = NULL;\n",
    "    else if (end) {\n",
    "        if (PyUnicode_Check(end)) {\n",
    "            use_unicode = 1;\n",
    "        }\n",
    "        else if (!PyString_Check(end)) {\n",
    "            PyErr_Format(PyExc_TypeError,\n",
    "                         \"end must be None, str or unicode, not %.200s\",\n",
    "                         end->ob_type->tp_name);\n",
    "            return NULL;\n",
    "        }\n",
    "    }\n",
    "\n",
    "    if (!use_unicode) {\n",
    "        for (i = 0; i < PyTuple_Size(args); i++) {\n",
    "            if (PyUnicode_Check(PyTuple_GET_ITEM(args, i))) {\n",
    "                use_unicode = 1;\n",
    "                break;\n",
    "            }\n",
    "        }\n",
    "    }\n",
    "    if (use_unicode) {\n",
    "        newline = unicode_newline;\n",
    "        space = unicode_space;\n",
    "    }\n",
    "    else {\n",
    "        newline = str_newline;\n",
    "        space = str_space;\n",
    "    }\n",
    "\n",
    "    for (i = 0; i < PyTuple_Size(args); i++) {\n",
    "        if (i > 0) {\n",
    "            if (sep == NULL)\n",
    "                err = PyFile_WriteObject(space, file,\n",
    "                                         Py_PRINT_RAW);\n",
    "            else\n",
    "                err = PyFile_WriteObject(sep, file,\n",
    "                                         Py_PRINT_RAW);\n",
    "            if (err)\n",
    "                return NULL;\n",
    "        }\n",
    "        err = PyFile_WriteObject(PyTuple_GetItem(args, i), file,\n",
    "                                 Py_PRINT_RAW);\n",
    "        if (err)\n",
    "            return NULL;\n",
    "    }\n",
    "\n",
    "    if (end == NULL)\n",
    "        err = PyFile_WriteObject(newline, file, Py_PRINT_RAW);\n",
    "    else\n",
    "        err = PyFile_WriteObject(end, file, Py_PRINT_RAW);\n",
    "    if (err)\n",
    "        return NULL;\n",
    "\n",
    "    Py_RETURN_NONE;\n",
    "}\n",
    "```"
   ]
  },
  {
   "cell_type": "markdown",
   "metadata": {},
   "source": [
    "## Sintaxis de las funciones\n",
    "\n",
    "Sintaxis para la definición de una función:\n",
    "```python\n",
    "\n",
    "def nombre_funcion(argumentos de entrada):\n",
    "    # los dos puntos y la indentacion implican estar en la funcion\n",
    "    realiza un accion\n",
    "    return()   # devuelven cierto valor\n",
    "\n",
    "```\n",
    "\n",
    "Ejecución de la función: \n",
    "```python\n",
    "nombre_de_la_función(argumento1, argumento2, ...)\n",
    "```\n",
    "o, si quieres guardar el resultado en una variable  \n",
    "```python\n",
    "resultado = nombre_de_la_función(argumento1, argumento2, ...)\n",
    "```"
   ]
  },
  {
   "cell_type": "markdown",
   "metadata": {},
   "source": [
    "## Parámetros vs Argumentos\n",
    "Los parámetros formales para una función se enumeran en la declaración de la función y se utilizan en el cuerpo de la definición de la función.\n",
    "\n",
    "Un argumento es lo que se usa haciendo referencia a los parámetros. Cuando escribe una llamada de función, los argumentos se enumeran entre paréntesis después del nombre de la función. Cuando se ejecuta la llamada a la función, los argumentos se insertan para los parámetros.\n",
    "\n",
    "Digamos entonces que, los parámetros, son esas variables \"imaginarias\" que van a tener el mismo nombre en la definición y en el cuerpo de la función.       \n",
    "Los argumentos son los DATOS REALES que utilizamos cuando llamamos a la función."
   ]
  },
  {
   "cell_type": "code",
   "execution_count": 3,
   "metadata": {},
   "outputs": [],
   "source": [
    "def suma (num1,num2):\n",
    "    return num1 + num2"
   ]
  },
  {
   "cell_type": "code",
   "execution_count": 4,
   "metadata": {},
   "outputs": [
    {
     "data": {
      "text/plain": [
       "5"
      ]
     },
     "execution_count": 4,
     "metadata": {},
     "output_type": "execute_result"
    }
   ],
   "source": [
    "suma(2,3)"
   ]
  },
  {
   "cell_type": "markdown",
   "metadata": {},
   "source": [
    "## Funciones que no tienen parámetros"
   ]
  },
  {
   "cell_type": "code",
   "execution_count": 7,
   "metadata": {},
   "outputs": [],
   "source": [
    "def saluda():\n",
    "    return \"Hola ironhacker\""
   ]
  },
  {
   "cell_type": "code",
   "execution_count": 8,
   "metadata": {},
   "outputs": [
    {
     "data": {
      "text/plain": [
       "'Hola ironhacker'"
      ]
     },
     "execution_count": 8,
     "metadata": {},
     "output_type": "execute_result"
    }
   ],
   "source": [
    "saluda()"
   ]
  },
  {
   "cell_type": "markdown",
   "metadata": {},
   "source": [
    "## Funciones que no tienen return\n",
    "Hacen \"cosas\" pero no devuelven nada... y si una función no tiene return, entonces devuelve:         \n",
    "```python\n",
    "None\n",
    "```\n"
   ]
  },
  {
   "cell_type": "code",
   "execution_count": 13,
   "metadata": {},
   "outputs": [],
   "source": [
    "def suma (num1,num2):\n",
    "    num1 + num2"
   ]
  },
  {
   "cell_type": "code",
   "execution_count": 17,
   "metadata": {},
   "outputs": [],
   "source": [
    "suma(2,3)"
   ]
  },
  {
   "cell_type": "code",
   "execution_count": 19,
   "metadata": {},
   "outputs": [
    {
     "data": {
      "text/plain": [
       "NoneType"
      ]
     },
     "execution_count": 19,
     "metadata": {},
     "output_type": "execute_result"
    }
   ],
   "source": [
    "type (suma(2,3))"
   ]
  },
  {
   "cell_type": "markdown",
   "metadata": {},
   "source": [
    "## Escribamos funciones"
   ]
  },
  {
   "cell_type": "code",
   "execution_count": 28,
   "metadata": {},
   "outputs": [],
   "source": [
    "def saludo(name):\n",
    "    return \"Hola \"+name"
   ]
  },
  {
   "cell_type": "code",
   "execution_count": 24,
   "metadata": {},
   "outputs": [
    {
     "data": {
      "text/plain": [
       "'hola Sonia'"
      ]
     },
     "execution_count": 24,
     "metadata": {},
     "output_type": "execute_result"
    }
   ],
   "source": [
    "saludo(\"Sonia\")"
   ]
  },
  {
   "cell_type": "code",
   "execution_count": 26,
   "metadata": {},
   "outputs": [],
   "source": [
    "nombre = \"Lydia\""
   ]
  },
  {
   "cell_type": "code",
   "execution_count": 27,
   "metadata": {},
   "outputs": [
    {
     "data": {
      "text/plain": [
       "'hola Lydia'"
      ]
     },
     "execution_count": 27,
     "metadata": {},
     "output_type": "execute_result"
    }
   ],
   "source": [
    "saludo(nombre)"
   ]
  },
  {
   "cell_type": "code",
   "execution_count": 30,
   "metadata": {},
   "outputs": [],
   "source": [
    "def saludo2(name):\n",
    "    print (\"Hola \"+name)"
   ]
  },
  {
   "cell_type": "code",
   "execution_count": 31,
   "metadata": {},
   "outputs": [
    {
     "name": "stdout",
     "output_type": "stream",
     "text": [
      "Hola Lydia\n"
     ]
    }
   ],
   "source": [
    "saludo2(nombre)"
   ]
  },
  {
   "cell_type": "code",
   "execution_count": 32,
   "metadata": {},
   "outputs": [
    {
     "name": "stdout",
     "output_type": "stream",
     "text": [
      "Hola Lydia\n"
     ]
    }
   ],
   "source": [
    "misaludo = saludo2(nombre)"
   ]
  },
  {
   "cell_type": "code",
   "execution_count": 33,
   "metadata": {},
   "outputs": [],
   "source": [
    "misaludo"
   ]
  },
  {
   "cell_type": "code",
   "execution_count": 34,
   "metadata": {},
   "outputs": [
    {
     "data": {
      "text/plain": [
       "NoneType"
      ]
     },
     "execution_count": 34,
     "metadata": {},
     "output_type": "execute_result"
    }
   ],
   "source": [
    "type(misaludo)"
   ]
  },
  {
   "cell_type": "markdown",
   "metadata": {},
   "source": [
    "**Ejemplo**: Me dan una hora con el siguiente formato: \"04:52\", minutos y segundos. Calcule el número entero de segundos.  "
   ]
  },
  {
   "cell_type": "code",
   "execution_count": 39,
   "metadata": {},
   "outputs": [],
   "source": [
    "t=\"04:52\""
   ]
  },
  {
   "cell_type": "code",
   "execution_count": 40,
   "metadata": {},
   "outputs": [
    {
     "data": {
      "text/plain": [
       "['04', '52']"
      ]
     },
     "execution_count": 40,
     "metadata": {},
     "output_type": "execute_result"
    }
   ],
   "source": [
    "t.split(\":\")"
   ]
  },
  {
   "cell_type": "code",
   "execution_count": 41,
   "metadata": {},
   "outputs": [],
   "source": [
    "total = int(t.split(\":\")[0])*60 + int(t.split(\":\")[1])"
   ]
  },
  {
   "cell_type": "code",
   "execution_count": 43,
   "metadata": {},
   "outputs": [
    {
     "data": {
      "text/plain": [
       "292"
      ]
     },
     "execution_count": 43,
     "metadata": {},
     "output_type": "execute_result"
    }
   ],
   "source": [
    "total2 = int(t.split(\":\")[1]) + int(t.split(\":\")[0])*60\n",
    "total2"
   ]
  },
  {
   "cell_type": "code",
   "execution_count": 42,
   "metadata": {},
   "outputs": [
    {
     "data": {
      "text/plain": [
       "292"
      ]
     },
     "execution_count": 42,
     "metadata": {},
     "output_type": "execute_result"
    }
   ],
   "source": [
    "total"
   ]
  },
  {
   "cell_type": "markdown",
   "metadata": {},
   "source": [
    "Tenemos un montón de código para UNA sola funcionalidad, que podríamos REUTILIZAR para diferentes casos     \n",
    "**PARA ESTO ESTÁN LAS FUNCIONES**     \n",
    "A continuación, lo convertimos en una función"
   ]
  },
  {
   "cell_type": "code",
   "execution_count": 44,
   "metadata": {},
   "outputs": [],
   "source": [
    "def segundos (marca):\n",
    "    return int(marca.split(\":\")[0])*60 + int(marca.split(\":\")[1])"
   ]
  },
  {
   "cell_type": "code",
   "execution_count": 45,
   "metadata": {},
   "outputs": [
    {
     "data": {
      "text/plain": [
       "292"
      ]
     },
     "execution_count": 45,
     "metadata": {},
     "output_type": "execute_result"
    }
   ],
   "source": [
    "segundos(t)"
   ]
  },
  {
   "cell_type": "code",
   "execution_count": 48,
   "metadata": {},
   "outputs": [],
   "source": [
    "marcas_podium = [\"4:52\", \"3:01\", \"7:23\", \"10:01\"]"
   ]
  },
  {
   "cell_type": "code",
   "execution_count": 49,
   "metadata": {},
   "outputs": [
    {
     "name": "stdout",
     "output_type": "stream",
     "text": [
      "292\n",
      "181\n",
      "443\n",
      "601\n"
     ]
    }
   ],
   "source": [
    "for i in marcas_podium:\n",
    "    m_seg = segundos(i)\n",
    "    print(m_seg)"
   ]
  },
  {
   "cell_type": "markdown",
   "metadata": {},
   "source": [
    "## Parámetros por defecto"
   ]
  },
  {
   "cell_type": "code",
   "execution_count": 52,
   "metadata": {},
   "outputs": [],
   "source": [
    "def saludame (nombre, idioma = \"es\"):\n",
    "    if idioma == \"es\":\n",
    "        return f\"Qué pasa {nombre}!\"\n",
    "    elif idioma == \"en\":\n",
    "        return f\"What's uuuuup {nombre}\"\n",
    "    else:\n",
    "        return f\"No te entiendo\""
   ]
  },
  {
   "cell_type": "code",
   "execution_count": 51,
   "metadata": {},
   "outputs": [
    {
     "data": {
      "text/plain": [
       "'Qué pasa Rodrigo'"
      ]
     },
     "execution_count": 51,
     "metadata": {},
     "output_type": "execute_result"
    }
   ],
   "source": [
    "saludame(\"Rodrigo\", \"es\")"
   ]
  },
  {
   "cell_type": "code",
   "execution_count": 53,
   "metadata": {},
   "outputs": [
    {
     "data": {
      "text/plain": [
       "\"What's uuuuup Eva\""
      ]
     },
     "execution_count": 53,
     "metadata": {},
     "output_type": "execute_result"
    }
   ],
   "source": [
    "saludame(\"Eva\", \"en\")"
   ]
  },
  {
   "cell_type": "code",
   "execution_count": 54,
   "metadata": {},
   "outputs": [
    {
     "data": {
      "text/plain": [
       "'No te entiendo'"
      ]
     },
     "execution_count": 54,
     "metadata": {},
     "output_type": "execute_result"
    }
   ],
   "source": [
    "saludame(\"Juana\", \"fr\")"
   ]
  },
  {
   "cell_type": "code",
   "execution_count": 55,
   "metadata": {},
   "outputs": [
    {
     "data": {
      "text/plain": [
       "'Qué pasa Juana!'"
      ]
     },
     "execution_count": 55,
     "metadata": {},
     "output_type": "execute_result"
    }
   ],
   "source": [
    "saludame(\"Juana\")#sin poner argumento idioma"
   ]
  },
  {
   "cell_type": "code",
   "execution_count": 64,
   "metadata": {},
   "outputs": [
    {
     "ename": "TypeError",
     "evalue": "saludame() missing 1 required positional argument: 'nombre'",
     "output_type": "error",
     "traceback": [
      "\u001b[0;31m---------------------------------------------------------------------------\u001b[0m",
      "\u001b[0;31mTypeError\u001b[0m                                 Traceback (most recent call last)",
      "\u001b[0;32m<ipython-input-64-58ebd593532b>\u001b[0m in \u001b[0;36m<module>\u001b[0;34m\u001b[0m\n\u001b[0;32m----> 1\u001b[0;31m \u001b[0msaludame\u001b[0m\u001b[0;34m(\u001b[0m\u001b[0midioma\u001b[0m\u001b[0;34m=\u001b[0m\u001b[0;34m\"en\"\u001b[0m\u001b[0;34m)\u001b[0m\u001b[0;34m\u001b[0m\u001b[0;34m\u001b[0m\u001b[0m\n\u001b[0m",
      "\u001b[0;31mTypeError\u001b[0m: saludame() missing 1 required positional argument: 'nombre'"
     ]
    }
   ],
   "source": [
    "saludame(idioma = \"en\")"
   ]
  },
  {
   "cell_type": "code",
   "execution_count": 65,
   "metadata": {},
   "outputs": [
    {
     "data": {
      "text/plain": [
       "'No te entiendo'"
      ]
     },
     "execution_count": 65,
     "metadata": {},
     "output_type": "execute_result"
    }
   ],
   "source": [
    "saludame(\"en\", \"Sonia\")"
   ]
  },
  {
   "cell_type": "code",
   "execution_count": 66,
   "metadata": {},
   "outputs": [
    {
     "data": {
      "text/plain": [
       "\"What's uuuuup Sonia\""
      ]
     },
     "execution_count": 66,
     "metadata": {},
     "output_type": "execute_result"
    }
   ],
   "source": [
    "saludame(idioma=\"en\", nombre=\"Sonia\")"
   ]
  },
  {
   "cell_type": "code",
   "execution_count": 70,
   "metadata": {},
   "outputs": [],
   "source": [
    "def saludame2 (nombre, frase_educada = \"¿Qué tal la familia?\", idioma = \"es\"):\n",
    "    if idioma == \"es\":\n",
    "        return f\"Qué pasa {nombre}!{frase_educada}\"\n",
    "    elif idioma == \"en\":\n",
    "        return f\"What's uuuuup {nombre}\"\n",
    "    else:\n",
    "        return f\"No te entiendo\""
   ]
  },
  {
   "cell_type": "code",
   "execution_count": 72,
   "metadata": {},
   "outputs": [
    {
     "data": {
      "text/plain": [
       "\"What's uuuuup Ana\""
      ]
     },
     "execution_count": 72,
     "metadata": {},
     "output_type": "execute_result"
    }
   ],
   "source": [
    "saludame2(\"Ana\",idioma=\"en\")"
   ]
  },
  {
   "cell_type": "code",
   "execution_count": 77,
   "metadata": {},
   "outputs": [
    {
     "data": {
      "text/plain": [
       "'Qué pasa Ana!¿Qué tal la familia?'"
      ]
     },
     "execution_count": 77,
     "metadata": {},
     "output_type": "execute_result"
    }
   ],
   "source": [
    "saludame2(\"Ana\")"
   ]
  },
  {
   "cell_type": "code",
   "execution_count": 78,
   "metadata": {},
   "outputs": [
    {
     "data": {
      "text/plain": [
       "'Qué pasa !¿Qué tal la familia?'"
      ]
     },
     "execution_count": 78,
     "metadata": {},
     "output_type": "execute_result"
    }
   ],
   "source": [
    "saludame2(\"\")"
   ]
  },
  {
   "cell_type": "markdown",
   "metadata": {},
   "source": [
    "#### Otro ejemplo"
   ]
  },
  {
   "cell_type": "markdown",
   "metadata": {},
   "source": [
    "## PARFAVAR No confundamos los PRINT dentro de una función con los RETURN!"
   ]
  },
  {
   "cell_type": "code",
   "execution_count": null,
   "metadata": {},
   "outputs": [],
   "source": [
    "def saludame (nombre, idioma = \"es\"):\n",
    "    if idioma == \"es\":\n",
    "        return f\"Qué pasa {nombre}!\"\n",
    "    elif idioma == \"en\":\n",
    "        return f\"What's uuuuup {nombre}\"\n",
    "    else:\n",
    "        return f\"No te entiendo\""
   ]
  },
  {
   "cell_type": "code",
   "execution_count": 79,
   "metadata": {},
   "outputs": [
    {
     "data": {
      "text/plain": [
       "'Qué pasa Pepe!'"
      ]
     },
     "execution_count": 79,
     "metadata": {},
     "output_type": "execute_result"
    }
   ],
   "source": [
    "mi_saludo = saludame(\"Pepe\")\n",
    "mi_saludo"
   ]
  },
  {
   "cell_type": "code",
   "execution_count": 80,
   "metadata": {},
   "outputs": [
    {
     "data": {
      "text/plain": [
       "str"
      ]
     },
     "execution_count": 80,
     "metadata": {},
     "output_type": "execute_result"
    }
   ],
   "source": [
    "type(mi_saludo)"
   ]
  },
  {
   "cell_type": "code",
   "execution_count": 81,
   "metadata": {},
   "outputs": [],
   "source": [
    "#ponemos prints en vez de return\n",
    "def saludame_mal (nombre, idioma = \"es\"):\n",
    "    if idioma == \"es\":\n",
    "        print( f\"Qué pasa {nombre}!\")\n",
    "    elif idioma == \"en\":\n",
    "        print (f\"What's uuuuup {nombre}\")\n",
    "    else:\n",
    "        print (f\"No te entiendo\")"
   ]
  },
  {
   "cell_type": "code",
   "execution_count": 84,
   "metadata": {},
   "outputs": [
    {
     "name": "stdout",
     "output_type": "stream",
     "text": [
      "Qué pasa Pepe!\n"
     ]
    }
   ],
   "source": [
    "misaludo_2 = saludame_mal(\"Pepe\")\n"
   ]
  },
  {
   "cell_type": "code",
   "execution_count": 85,
   "metadata": {},
   "outputs": [],
   "source": [
    "misaludo_2"
   ]
  },
  {
   "cell_type": "code",
   "execution_count": 86,
   "metadata": {},
   "outputs": [
    {
     "data": {
      "text/plain": [
       "NoneType"
      ]
     },
     "execution_count": 86,
     "metadata": {},
     "output_type": "execute_result"
    }
   ],
   "source": [
    "type(misaludo_2)"
   ]
  },
  {
   "cell_type": "markdown",
   "metadata": {},
   "source": [
    "## Docstring\n",
    "El código se escribe 1 vez.  \n",
    "El código se lee 100 veces.  \n",
    "Ayuda a tus compañeros a entender tu trabajo.  \n",
    "![lafoto](https://res.cloudinary.com/highflyer910/image/upload/v1589577574/1_1_httqnc.jpg)\n",
    "En este ejemplo, hemos definido una función gato que devuelve miau. Hemos declarado un docstring que explica lo que hace la función. Para obtener el docstring de una función, necesitamos mostrar el atributo doc (print(cat.__doc__))     \n",
    "Referencia de la foto, la descripción y más info sobre docstring [aquí](https://techiestuff.netlify.app/blog/what-is-a-python-docstring/)"
   ]
  },
  {
   "cell_type": "code",
   "execution_count": 87,
   "metadata": {},
   "outputs": [],
   "source": [
    "def funcioncita():\n",
    "    \"\"\"Una función para ver qué es un docstring\"\"\"\n",
    "    pass"
   ]
  },
  {
   "cell_type": "code",
   "execution_count": 88,
   "metadata": {},
   "outputs": [
    {
     "data": {
      "text/plain": [
       "'Una función para ver qué es un docstring'"
      ]
     },
     "execution_count": 88,
     "metadata": {},
     "output_type": "execute_result"
    }
   ],
   "source": [
    "funcioncita.__doc__"
   ]
  },
  {
   "cell_type": "code",
   "execution_count": 89,
   "metadata": {},
   "outputs": [
    {
     "data": {
      "text/plain": [
       "\"Return the sum of a 'start' value (default: 0) plus an iterable of numbers\\n\\nWhen the iterable is empty, return the start value.\\nThis function is intended specifically for use with numeric values and may\\nreject non-numeric types.\""
      ]
     },
     "execution_count": 89,
     "metadata": {},
     "output_type": "execute_result"
    }
   ],
   "source": [
    "sum.__doc__"
   ]
  },
  {
   "cell_type": "code",
   "execution_count": 90,
   "metadata": {},
   "outputs": [
    {
     "name": "stdout",
     "output_type": "stream",
     "text": [
      "Help on function funcioncita in module __main__:\n",
      "\n",
      "funcioncita()\n",
      "    Una función para ver qué es un docstring\n",
      "\n"
     ]
    }
   ],
   "source": [
    "help(funcioncita)"
   ]
  },
  {
   "cell_type": "code",
   "execution_count": 91,
   "metadata": {},
   "outputs": [],
   "source": [
    "funcioncita() #si situamos el cursor encima de \"funcioncita\" y pulsamos shift+tab podemos ver el docstring"
   ]
  },
  {
   "cell_type": "markdown",
   "metadata": {},
   "source": [
    "## Scope de las funciones"
   ]
  },
  {
   "cell_type": "code",
   "execution_count": 92,
   "metadata": {},
   "outputs": [],
   "source": [
    "#Variable global\n",
    "mivariable = 56"
   ]
  },
  {
   "cell_type": "code",
   "execution_count": 93,
   "metadata": {},
   "outputs": [
    {
     "data": {
      "text/plain": [
       "90"
      ]
     },
     "execution_count": 93,
     "metadata": {},
     "output_type": "execute_result"
    }
   ],
   "source": [
    "34 + mivariable"
   ]
  },
  {
   "cell_type": "code",
   "execution_count": 94,
   "metadata": {},
   "outputs": [],
   "source": [
    "def sumar_56(num):\n",
    "    return mivariable+num"
   ]
  },
  {
   "cell_type": "code",
   "execution_count": 95,
   "metadata": {},
   "outputs": [
    {
     "data": {
      "text/plain": [
       "71"
      ]
     },
     "execution_count": 95,
     "metadata": {},
     "output_type": "execute_result"
    }
   ],
   "source": [
    "sumar_56(15)"
   ]
  },
  {
   "cell_type": "code",
   "execution_count": 107,
   "metadata": {},
   "outputs": [],
   "source": [
    "#variable local\n",
    "def sumar_71(num):\n",
    "    nombre_local = input(\"Introduzca su nombre\")\n",
    "    varlocal = 71\n",
    "    return f\"{nombre_local}, el resultado es {num+varlocal}\""
   ]
  },
  {
   "cell_type": "code",
   "execution_count": 108,
   "metadata": {},
   "outputs": [
    {
     "ename": "NameError",
     "evalue": "name 'nombre_local' is not defined",
     "output_type": "error",
     "traceback": [
      "\u001b[0;31m---------------------------------------------------------------------------\u001b[0m",
      "\u001b[0;31mNameError\u001b[0m                                 Traceback (most recent call last)",
      "\u001b[0;32m<ipython-input-108-c7e5fc75ebf6>\u001b[0m in \u001b[0;36m<module>\u001b[0;34m\u001b[0m\n\u001b[0;32m----> 1\u001b[0;31m \u001b[0mnombre_local\u001b[0m\u001b[0;34m\u001b[0m\u001b[0;34m\u001b[0m\u001b[0m\n\u001b[0m",
      "\u001b[0;31mNameError\u001b[0m: name 'nombre_local' is not defined"
     ]
    }
   ],
   "source": [
    "nombre_local #esta variable es local, solo existe dentro de la función"
   ]
  },
  {
   "cell_type": "code",
   "execution_count": 104,
   "metadata": {},
   "outputs": [
    {
     "name": "stdout",
     "output_type": "stream",
     "text": [
      "Introduzca su nombreSonia\n"
     ]
    },
    {
     "data": {
      "text/plain": [
       "'Sonia, el resultado es 80'"
      ]
     },
     "execution_count": 104,
     "metadata": {},
     "output_type": "execute_result"
    }
   ],
   "source": [
    "sumar_71(9)s"
   ]
  },
  {
   "cell_type": "code",
   "execution_count": 99,
   "metadata": {},
   "outputs": [],
   "source": [
    "varlocal = 7 #ahora es una variable global"
   ]
  },
  {
   "cell_type": "code",
   "execution_count": 100,
   "metadata": {},
   "outputs": [
    {
     "data": {
      "text/plain": [
       "7"
      ]
     },
     "execution_count": 100,
     "metadata": {},
     "output_type": "execute_result"
    }
   ],
   "source": [
    "varlocal"
   ]
  },
  {
   "cell_type": "code",
   "execution_count": 101,
   "metadata": {},
   "outputs": [
    {
     "data": {
      "text/plain": [
       "80"
      ]
     },
     "execution_count": 101,
     "metadata": {},
     "output_type": "execute_result"
    }
   ],
   "source": [
    "sumar_71(9)"
   ]
  },
  {
   "cell_type": "code",
   "execution_count": 102,
   "metadata": {},
   "outputs": [
    {
     "data": {
      "text/plain": [
       "7"
      ]
     },
     "execution_count": 102,
     "metadata": {},
     "output_type": "execute_result"
    }
   ],
   "source": [
    "varlocal"
   ]
  },
  {
   "cell_type": "code",
   "execution_count": 112,
   "metadata": {},
   "outputs": [],
   "source": [
    "siglo = 21\n",
    "def mifecha (d,m,a):\n",
    "    \n",
    "    return f\"{d}-{m}-{a}-{siglo}\""
   ]
  },
  {
   "cell_type": "code",
   "execution_count": 113,
   "metadata": {},
   "outputs": [
    {
     "data": {
      "text/plain": [
       "'13-1-1998-21'"
      ]
     },
     "execution_count": 113,
     "metadata": {},
     "output_type": "execute_result"
    }
   ],
   "source": [
    "mifecha(13,1,1998)"
   ]
  },
  {
   "cell_type": "markdown",
   "metadata": {},
   "source": [
    "## *Args\n",
    "En Python, el parámetro especial *args en una función se usa para pasar, de forma opcional, un número variable de argumentos posicionales."
   ]
  },
  {
   "cell_type": "code",
   "execution_count": 114,
   "metadata": {},
   "outputs": [],
   "source": [
    "def suma(a,b):\n",
    "    return a+b"
   ]
  },
  {
   "cell_type": "code",
   "execution_count": 115,
   "metadata": {},
   "outputs": [
    {
     "data": {
      "text/plain": [
       "10"
      ]
     },
     "execution_count": 115,
     "metadata": {},
     "output_type": "execute_result"
    }
   ],
   "source": [
    "suma(8,2)"
   ]
  },
  {
   "cell_type": "code",
   "execution_count": 116,
   "metadata": {},
   "outputs": [
    {
     "ename": "TypeError",
     "evalue": "suma() takes 2 positional arguments but 3 were given",
     "output_type": "error",
     "traceback": [
      "\u001b[0;31m---------------------------------------------------------------------------\u001b[0m",
      "\u001b[0;31mTypeError\u001b[0m                                 Traceback (most recent call last)",
      "\u001b[0;32m<ipython-input-116-6b3524baa7f6>\u001b[0m in \u001b[0;36m<module>\u001b[0;34m\u001b[0m\n\u001b[0;32m----> 1\u001b[0;31m \u001b[0msuma\u001b[0m\u001b[0;34m(\u001b[0m\u001b[0;36m1\u001b[0m\u001b[0;34m,\u001b[0m\u001b[0;36m5\u001b[0m\u001b[0;34m,\u001b[0m\u001b[0;36m3\u001b[0m\u001b[0;34m)\u001b[0m\u001b[0;34m\u001b[0m\u001b[0;34m\u001b[0m\u001b[0m\n\u001b[0m",
      "\u001b[0;31mTypeError\u001b[0m: suma() takes 2 positional arguments but 3 were given"
     ]
    }
   ],
   "source": [
    "suma(1,5,3)"
   ]
  },
  {
   "cell_type": "code",
   "execution_count": 122,
   "metadata": {},
   "outputs": [],
   "source": [
    "def suma(*args):\n",
    "    print(args)\n",
    "    print(type(args))\n",
    "    t=0\n",
    "    for n in args:\n",
    "        t+= n\n",
    "    return t\n",
    "        "
   ]
  },
  {
   "cell_type": "code",
   "execution_count": 123,
   "metadata": {},
   "outputs": [
    {
     "name": "stdout",
     "output_type": "stream",
     "text": [
      "(4,)\n",
      "<class 'tuple'>\n"
     ]
    },
    {
     "data": {
      "text/plain": [
       "4"
      ]
     },
     "execution_count": 123,
     "metadata": {},
     "output_type": "execute_result"
    }
   ],
   "source": [
    "suma(4)"
   ]
  },
  {
   "cell_type": "code",
   "execution_count": 124,
   "metadata": {},
   "outputs": [
    {
     "name": "stdout",
     "output_type": "stream",
     "text": [
      "(4, 8, 12)\n",
      "<class 'tuple'>\n"
     ]
    },
    {
     "data": {
      "text/plain": [
       "24"
      ]
     },
     "execution_count": 124,
     "metadata": {},
     "output_type": "execute_result"
    }
   ],
   "source": [
    "suma(4,8,12)"
   ]
  },
  {
   "cell_type": "markdown",
   "metadata": {},
   "source": [
    "### Otro ejemplo:\n",
    "Sonia vive con dos compañeras de piso, y quieren dividir el alquiler a partes iguales, pero en algún momentoel número de compañeras de piso podría cambiar."
   ]
  },
  {
   "cell_type": "code",
   "execution_count": 128,
   "metadata": {},
   "outputs": [],
   "source": [
    "def alquiler(precio, *args):\n",
    "    return precio/len(args)"
   ]
  },
  {
   "cell_type": "code",
   "execution_count": 129,
   "metadata": {},
   "outputs": [
    {
     "data": {
      "text/plain": [
       "1000.0"
      ]
     },
     "execution_count": 129,
     "metadata": {},
     "output_type": "execute_result"
    }
   ],
   "source": [
    "alquiler(3000, \"Belén\", \"Lore\", \"Sonia\")"
   ]
  },
  {
   "cell_type": "markdown",
   "metadata": {},
   "source": [
    "Recogen a Kenia, una gata callejera adorable, pero por supuesto ahora Kenia tendrá que pagar el alquiler."
   ]
  },
  {
   "cell_type": "code",
   "execution_count": 133,
   "metadata": {},
   "outputs": [
    {
     "data": {
      "text/plain": [
       "750.0"
      ]
     },
     "execution_count": 133,
     "metadata": {},
     "output_type": "execute_result"
    }
   ],
   "source": [
    "#Llega Kenia\n",
    "alquiler(3000, \"Belén\", \"Lore\", \"Sonia\", \"Kenia\")"
   ]
  },
  {
   "cell_type": "markdown",
   "metadata": {},
   "source": [
    "## **Kwargs"
   ]
  },
  {
   "cell_type": "markdown",
   "metadata": {},
   "source": [
    "También podemos pasar como argumento un diccionario usando como claves los nombres de los parámetros (* *kwargs).\n",
    "Emplea * *kwargs para pasar de forma opcional a una función un número variable de argumentos con nombre.      \n",
    "Es un diccionario cuyas claves se convierten en parámetros y sus valores en los argumentos de los parámetros.    \n",
    "El parámetro * *kwargs recibe los argumentos como un diccionario.      "
   ]
  },
  {
   "cell_type": "code",
   "execution_count": 134,
   "metadata": {},
   "outputs": [],
   "source": [
    "def otra_f_mas (**kwargs):\n",
    "    for k,v in kwargs.items():\n",
    "        print(k,v)"
   ]
  },
  {
   "cell_type": "code",
   "execution_count": 136,
   "metadata": {},
   "outputs": [],
   "source": [
    "diccionario = {\"nombre\":\"Rodrigo\", \"edad\":23, \"hermanos\":2}"
   ]
  },
  {
   "cell_type": "code",
   "execution_count": 138,
   "metadata": {},
   "outputs": [
    {
     "name": "stdout",
     "output_type": "stream",
     "text": [
      "nombre Rodrigo\n",
      "edad 23\n",
      "hermanos 2\n"
     ]
    }
   ],
   "source": [
    "otra_f_mas(**diccionario)"
   ]
  },
  {
   "cell_type": "markdown",
   "metadata": {},
   "source": [
    "Las chicas se han dado cuenta de que el reparto de alquiler no es equitativo, porque las habitaciones no tienen el mismo tamaño, asi que deciden dividirlo proporcionalmente al tamaño de los cuartos. El cuarto de Belén ocupa el 50% del espacio, el de Sonia el 30% y el de Lore el 20%"
   ]
  },
  {
   "cell_type": "code",
   "execution_count": 147,
   "metadata": {},
   "outputs": [],
   "source": [
    "habitaciones = {\"Belén\":0.5 , \"Sonia\":0.3,\"Lore\":0.2}\n",
    "p_alquiler = 3000"
   ]
  },
  {
   "cell_type": "code",
   "execution_count": 148,
   "metadata": {},
   "outputs": [],
   "source": [
    "def alquiler (precio,**kwargs):\n",
    "    pago = {k:(v*precio) for k,v in kwargs.items()}\n",
    "    return pago"
   ]
  },
  {
   "cell_type": "code",
   "execution_count": 149,
   "metadata": {},
   "outputs": [
    {
     "data": {
      "text/plain": [
       "{'Belén': 1500.0, 'Sonia': 900.0, 'Lore': 600.0}"
      ]
     },
     "execution_count": 149,
     "metadata": {},
     "output_type": "execute_result"
    }
   ],
   "source": [
    "cuantopago = alquiler(p_alquiler,**habitaciones)\n",
    "cuantopago"
   ]
  },
  {
   "cell_type": "code",
   "execution_count": 152,
   "metadata": {},
   "outputs": [],
   "source": [
    "def mialquiler (precio,**kwargs):\n",
    "    pago = {}\n",
    "    for key,value in kwargs.items():\n",
    "        pago[key] = value*precio\n",
    "    return pago"
   ]
  },
  {
   "cell_type": "code",
   "execution_count": 153,
   "metadata": {},
   "outputs": [
    {
     "data": {
      "text/plain": [
       "{'Belén': 1500.0, 'Sonia': 900.0, 'Lore': 600.0}"
      ]
     },
     "execution_count": 153,
     "metadata": {},
     "output_type": "execute_result"
    }
   ],
   "source": [
    "mialquiler(p_alquiler,**habitaciones)"
   ]
  },
  {
   "cell_type": "markdown",
   "metadata": {},
   "source": [
    "Ahora lo complicamos un poco, queremos que Sonia pague el doble que Lore, y que Belén pague el triple que Lore."
   ]
  },
  {
   "cell_type": "code",
   "execution_count": 142,
   "metadata": {},
   "outputs": [],
   "source": [
    "habitaciones = {\"Belén\": 3, \"Sonia\":2,\"Lore\":1}"
   ]
  },
  {
   "cell_type": "code",
   "execution_count": 143,
   "metadata": {},
   "outputs": [],
   "source": [
    "def alq(precio, **kwargs):\n",
    "    \n",
    "    valores = [i for i in kwargs.values()] \n",
    "    nombres = [i for i in kwargs.keys()]\n",
    "    \n",
    "    sum_ud = 0\n",
    "    \n",
    "    for i in valores:\n",
    "        sum_ud += int(i)\n",
    "        \n",
    "    preciototal = precio/sum_ud\n",
    "  \n",
    "    #check1\n",
    "    print(preciototal)\n",
    "    \n",
    "    listapaga = [preciototal*i for i in valores]\n",
    "    \n",
    "    #check2\n",
    "    print(listapaga)\n",
    "    \n",
    "    finaldict = {}\n",
    "    \n",
    "    for i in range(0,len(kwargs)):\n",
    "        finaldict[nombres[i]] = listapaga[i]\n",
    "\n",
    "    #checkf\n",
    "    print(finaldict)\n",
    "    return(finaldict)\n",
    "    "
   ]
  },
  {
   "cell_type": "code",
   "execution_count": 144,
   "metadata": {},
   "outputs": [
    {
     "name": "stdout",
     "output_type": "stream",
     "text": [
      "500.0\n",
      "[1500.0, 1000.0, 500.0]\n",
      "{'Belén': 1500.0, 'Sonia': 1000.0, 'Lore': 500.0}\n"
     ]
    },
    {
     "data": {
      "text/plain": [
       "{'Belén': 1500.0, 'Sonia': 1000.0, 'Lore': 500.0}"
      ]
     },
     "execution_count": 144,
     "metadata": {},
     "output_type": "execute_result"
    }
   ],
   "source": [
    "alq(alquiler, **habitaciones)"
   ]
  },
  {
   "cell_type": "markdown",
   "metadata": {},
   "source": [
    "## El orden importa\n",
    "El orden de los parámetros a la hora de definir una función importa...\n",
    "```python\n",
    "def ejemplo(arg1, arg2, *args, **kwargs)\n",
    "```\n"
   ]
  },
  {
   "cell_type": "markdown",
   "metadata": {},
   "source": [
    "## Lambda\n",
    "Una función lambda es una función anónima, sin identificador, que puede declararse in situ. Dado que podemos usar funciones como argumentos y asignarlas a variables, la notación que posibilita la creación de funciones lambda es muy práctica en muchos casos.\n",
    "### Sintaxis de una lambda\n",
    "```python\n",
    "lambda <lista de parámetros>: <expresión de retorno>\n",
    "```\n",
    "### Ejemplos de lambda"
   ]
  },
  {
   "cell_type": "code",
   "execution_count": null,
   "metadata": {},
   "outputs": [],
   "source": [
    "lambda a,b: a+b # Suma\n",
    "lambda x: x **2 # cuadrado\n",
    "lambda x: x[0] # Devuelve el primer elemento del argumento\n",
    "lambda x, y: x if x>y else y # Devuelve el mayor"
   ]
  },
  {
   "cell_type": "markdown",
   "metadata": {},
   "source": [
    "### Hagámoslo Fácil 🙃"
   ]
  },
  {
   "cell_type": "code",
   "execution_count": null,
   "metadata": {},
   "outputs": [],
   "source": []
  },
  {
   "cell_type": "markdown",
   "metadata": {},
   "source": [
    "También es posible usar estas funciones anónimas como argumentos en la llamada a otras funcoines. Por ejemplo, en una llamada a sorted() o list.sort() podemos usar una función lambda como argumento para el parámetro key:"
   ]
  },
  {
   "cell_type": "code",
   "execution_count": null,
   "metadata": {},
   "outputs": [],
   "source": [
    "distancias = [(\"Madrid\", 331), (\"Córdoba\", 117), (\"Barcelona\",798)]"
   ]
  },
  {
   "cell_type": "code",
   "execution_count": null,
   "metadata": {},
   "outputs": [],
   "source": [
    "#Ordenamos por la distancia, de menor a mayor by default \n"
   ]
  },
  {
   "cell_type": "code",
   "execution_count": null,
   "metadata": {},
   "outputs": [],
   "source": [
    "#Ordenamos por distancia pero de mayor a menor, con reverse = True\n"
   ]
  },
  {
   "cell_type": "code",
   "execution_count": null,
   "metadata": {},
   "outputs": [],
   "source": []
  },
  {
   "cell_type": "code",
   "execution_count": null,
   "metadata": {},
   "outputs": [],
   "source": [
    "#Ordenamos alfabéticamente utilizando el primer elemento x[0]\n"
   ]
  },
  {
   "cell_type": "code",
   "execution_count": null,
   "metadata": {},
   "outputs": [],
   "source": [
    "#Ordenamos alfabéticamente de final a principio utilizando reverse = True\n"
   ]
  },
  {
   "cell_type": "code",
   "execution_count": null,
   "metadata": {},
   "outputs": [],
   "source": []
  },
  {
   "cell_type": "code",
   "execution_count": null,
   "metadata": {},
   "outputs": [],
   "source": []
  },
  {
   "cell_type": "markdown",
   "metadata": {},
   "source": [
    "Por último, si queremos devolver como resultado de una función a otra función podemos usar cualquier función conocida en el ámbito de la función que realiza el retorno, o usar una función lambda:"
   ]
  },
  {
   "cell_type": "code",
   "execution_count": null,
   "metadata": {},
   "outputs": [],
   "source": []
  },
  {
   "cell_type": "markdown",
   "metadata": {},
   "source": [
    "## Recursividad\n",
    "Se denomina llamada recursiva (o recursividad), a aquellas funciones que en su algoritmo, hacen referencia sí misma.\n",
    "\n",
    "Las llamadas recursivas suelen ser muy útiles en casos muy puntuales, pero debido a su gran factibilidad de caer en iteraciones infinitas, deben extremarse las medidas preventivas adecuadas y, solo utilizarse cuando sea estrictamente necesario y no exista una forma alternativa viable, que resuelva el problema evitando la recursividad.\n",
    "\n",
    "Python admite las llamadas recursivas, permitiendo a una función, llamarse a sí misma, de igual forma que lo hace cuando llama a otra función."
   ]
  },
  {
   "cell_type": "markdown",
   "metadata": {},
   "source": [
    "## Resumen \n",
    "Es tu turno ¿Qué hemos aprendido hoy?\n",
    "- Estructura de las funciones\n",
    "- Argumentos y parámetros\n",
    "- Puede haber funciones sin argumentos\n",
    "- Scope: diferencia entre variable globales y local\n",
    "- Argumentos por defecto\n",
    "- Diferencia print VS return\n",
    "- Funciones built-in (predeterminadas en python)\n",
    "- ver docstring `.__doc__` o help()\n",
    "- Podemos declarar variables en chino\n",
    "- Si una variable está definida dentro de la función(variable local) no existe fuera de ella.\n",
    "- Las librerias son conjuntos de funciones"
   ]
  }
 ],
 "metadata": {
  "kernelspec": {
   "display_name": "ironhack",
   "language": "python",
   "name": "ironhack"
  },
  "language_info": {
   "codemirror_mode": {
    "name": "ipython",
    "version": 3
   },
   "file_extension": ".py",
   "mimetype": "text/x-python",
   "name": "python",
   "nbconvert_exporter": "python",
   "pygments_lexer": "ipython3",
   "version": "3.8.5"
  },
  "toc": {
   "base_numbering": 1,
   "nav_menu": {},
   "number_sections": true,
   "sideBar": true,
   "skip_h1_title": true,
   "title_cell": "Table of Contents",
   "title_sidebar": "Contents",
   "toc_cell": true,
   "toc_position": {},
   "toc_section_display": true,
   "toc_window_display": false
  },
  "varInspector": {
   "cols": {
    "lenName": 16,
    "lenType": 16,
    "lenVar": 40
   },
   "kernels_config": {
    "python": {
     "delete_cmd_postfix": "",
     "delete_cmd_prefix": "del ",
     "library": "var_list.py",
     "varRefreshCmd": "print(var_dic_list())"
    },
    "r": {
     "delete_cmd_postfix": ") ",
     "delete_cmd_prefix": "rm(",
     "library": "var_list.r",
     "varRefreshCmd": "cat(var_dic_list()) "
    }
   },
   "types_to_exclude": [
    "module",
    "function",
    "builtin_function_or_method",
    "instance",
    "_Feature"
   ],
   "window_display": false
  }
 },
 "nbformat": 4,
 "nbformat_minor": 5
}
