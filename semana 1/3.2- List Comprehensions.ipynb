{
 "cells": [
  {
   "cell_type": "markdown",
   "id": "tribal-director",
   "metadata": {},
   "source": [
    "# List Comprehensions"
   ]
  },
  {
   "cell_type": "markdown",
   "id": "ambient-dodge",
   "metadata": {},
   "source": [
    "![elgif](https://media.giphy.com/media/8vZY0QZZjJZqmfResk/giphy.gif)"
   ]
  },
  {
   "cell_type": "markdown",
   "id": "binding-sperm",
   "metadata": {},
   "source": [
    "## Pero... ¿Esto qué es?\n",
    "Las compresiones de listas son una herramienta muy poderosa, que crea una lista basada en otra, en una única linea legible."
   ]
  },
  {
   "cell_type": "code",
   "execution_count": 1,
   "id": "velvet-madonna",
   "metadata": {},
   "outputs": [],
   "source": [
    "objetos = [\"mesa\", \"silla\", \"ordenador\", \"ruleta\"]"
   ]
  },
  {
   "cell_type": "markdown",
   "id": "cordless-concentration",
   "metadata": {},
   "source": [
    "Si quisiéramos tener una lista igual que esta pero con todas las palabras en mayúsculas utilizando un bucle...."
   ]
  },
  {
   "cell_type": "code",
   "execution_count": 4,
   "id": "productive-panel",
   "metadata": {},
   "outputs": [],
   "source": [
    "mayus = []\n",
    "for i in objetos:\n",
    "    mayus.append(i.upper())"
   ]
  },
  {
   "cell_type": "code",
   "execution_count": 5,
   "id": "short-hydrogen",
   "metadata": {},
   "outputs": [
    {
     "data": {
      "text/plain": [
       "['MESA', 'SILLA', 'ORDENADOR', 'RULETA']"
      ]
     },
     "execution_count": 5,
     "metadata": {},
     "output_type": "execute_result"
    }
   ],
   "source": [
    "mayus"
   ]
  },
  {
   "cell_type": "markdown",
   "id": "gross-boxing",
   "metadata": {},
   "source": [
    "¿Cómo podemos hacerlo con comprehension list?"
   ]
  },
  {
   "cell_type": "markdown",
   "id": "third-policy",
   "metadata": {},
   "source": [
    "![imagen_compr](https://stsewd.dev/charla-comprension-de-listas/img/listComprehensions.gif)"
   ]
  },
  {
   "cell_type": "code",
   "execution_count": 6,
   "id": "coupled-headset",
   "metadata": {},
   "outputs": [],
   "source": [
    "lista_mayus = [i.upper() for i in objetos]"
   ]
  },
  {
   "cell_type": "code",
   "execution_count": 7,
   "id": "developing-franklin",
   "metadata": {},
   "outputs": [
    {
     "data": {
      "text/plain": [
       "['MESA', 'SILLA', 'ORDENADOR', 'RULETA']"
      ]
     },
     "execution_count": 7,
     "metadata": {},
     "output_type": "execute_result"
    }
   ],
   "source": [
    "lista_mayus"
   ]
  },
  {
   "cell_type": "code",
   "execution_count": 8,
   "id": "possible-pillow",
   "metadata": {},
   "outputs": [
    {
     "data": {
      "text/plain": [
       "'ruleta'"
      ]
     },
     "execution_count": 8,
     "metadata": {},
     "output_type": "execute_result"
    }
   ],
   "source": [
    "i"
   ]
  },
  {
   "cell_type": "markdown",
   "id": "magnetic-virtue",
   "metadata": {},
   "source": [
    "## Retito fácil 🤔\n",
    "Queremos una lista que contenga los cuadrados de los números del 1 al 10."
   ]
  },
  {
   "cell_type": "code",
   "execution_count": 10,
   "id": "surprised-function",
   "metadata": {},
   "outputs": [],
   "source": [
    "# Bucle clásico\n",
    "lis_cuadrados = []\n",
    "for i in range (1,11):\n",
    "    lis_cuadrados.append(i**2)"
   ]
  },
  {
   "cell_type": "code",
   "execution_count": 11,
   "id": "unlikely-channels",
   "metadata": {},
   "outputs": [
    {
     "data": {
      "text/plain": [
       "[1, 4, 9, 16, 25, 36, 49, 64, 81, 100]"
      ]
     },
     "execution_count": 11,
     "metadata": {},
     "output_type": "execute_result"
    }
   ],
   "source": [
    "lis_cuadrados"
   ]
  },
  {
   "cell_type": "code",
   "execution_count": null,
   "id": "focal-framework",
   "metadata": {},
   "outputs": [],
   "source": [
    "# Comprehension list\n"
   ]
  },
  {
   "cell_type": "code",
   "execution_count": 12,
   "id": "russian-domain",
   "metadata": {},
   "outputs": [],
   "source": [
    "cuadrados2 =[e**2 for e in range(1,11)]"
   ]
  },
  {
   "cell_type": "code",
   "execution_count": 13,
   "id": "saving-speaking",
   "metadata": {},
   "outputs": [
    {
     "data": {
      "text/plain": [
       "[1, 4, 9, 16, 25, 36, 49, 64, 81, 100]"
      ]
     },
     "execution_count": 13,
     "metadata": {},
     "output_type": "execute_result"
    }
   ],
   "source": [
    "cuadrados2"
   ]
  },
  {
   "cell_type": "markdown",
   "id": "complimentary-fruit",
   "metadata": {},
   "source": [
    "## Ventajas\n",
    "Al comprender la lista:  \n",
    " * no necesitamos una lista vacía para empezar\n",
    " * no utilizamos el método `.append`."
   ]
  },
  {
   "cell_type": "markdown",
   "id": "permanent-career",
   "metadata": {},
   "source": [
    "## Retito fácil 🤔\n",
    "Crea una nueva lista, sustituyendo las \"a\" por las \"e\" en cada palabra de la lista original `objetos`."
   ]
  },
  {
   "cell_type": "code",
   "execution_count": 16,
   "id": "considered-nudist",
   "metadata": {},
   "outputs": [],
   "source": [
    "# Clásico\n",
    "objetos_e = []\n",
    "for i in objetos:\n",
    "    objetos_e.append(i.replace(\"a\",\"e\"))"
   ]
  },
  {
   "cell_type": "code",
   "execution_count": 17,
   "id": "focal-electron",
   "metadata": {},
   "outputs": [
    {
     "data": {
      "text/plain": [
       "['mese', 'sille', 'ordenedor', 'rulete']"
      ]
     },
     "execution_count": 17,
     "metadata": {},
     "output_type": "execute_result"
    }
   ],
   "source": [
    "objetos_e"
   ]
  },
  {
   "cell_type": "code",
   "execution_count": null,
   "id": "bibliographic-picnic",
   "metadata": {},
   "outputs": [],
   "source": [
    "# Comprehension\n"
   ]
  },
  {
   "cell_type": "code",
   "execution_count": 18,
   "id": "acceptable-auckland",
   "metadata": {},
   "outputs": [
    {
     "data": {
      "text/plain": [
       "['mese', 'sille', 'ordenedor', 'rulete']"
      ]
     },
     "execution_count": 18,
     "metadata": {},
     "output_type": "execute_result"
    }
   ],
   "source": [
    "e_2 = [i.replace(\"a\",\"e\") for i in objetos]\n",
    "e_2"
   ]
  },
  {
   "cell_type": "markdown",
   "id": "beneficial-blackjack",
   "metadata": {},
   "source": [
    "## Condiciones (metemos IF en la comprensión)"
   ]
  },
  {
   "cell_type": "markdown",
   "id": "worthy-major",
   "metadata": {},
   "source": [
    "<img width=600 src=\"https://www.mrdbourke.com/content/images/2019/09/python-list-comprehension-article.png\">"
   ]
  },
  {
   "cell_type": "markdown",
   "id": "operational-wings",
   "metadata": {},
   "source": [
    "## Retito fácil 🤔\n",
    "Queremos una nueva lista con objetos de más de 5 caracteres."
   ]
  },
  {
   "cell_type": "code",
   "execution_count": 19,
   "id": "invalid-variation",
   "metadata": {},
   "outputs": [
    {
     "data": {
      "text/plain": [
       "['ordenador', 'ruleta']"
      ]
     },
     "execution_count": 19,
     "metadata": {},
     "output_type": "execute_result"
    }
   ],
   "source": [
    "# Clásico\n",
    "a2 = []\n",
    "for i in objetos:\n",
    "    if len(i)>5:\n",
    "        a2.append(i)\n",
    "a2"
   ]
  },
  {
   "cell_type": "code",
   "execution_count": null,
   "id": "listed-fireplace",
   "metadata": {},
   "outputs": [],
   "source": [
    "# Comprehension\n"
   ]
  },
  {
   "cell_type": "code",
   "execution_count": 20,
   "id": "ambient-absence",
   "metadata": {},
   "outputs": [
    {
     "data": {
      "text/plain": [
       "['ordenador', 'ruleta']"
      ]
     },
     "execution_count": 20,
     "metadata": {},
     "output_type": "execute_result"
    }
   ],
   "source": [
    "a3 = [i for i in objetos if len(i)>5]\n",
    "a3"
   ]
  },
  {
   "cell_type": "markdown",
   "id": "material-ozone",
   "metadata": {},
   "source": [
    "## If / Else en comprehension\n",
    "Puedes incluir una sentencia else con un bloque de código que se implemente si la condición es falsa."
   ]
  },
  {
   "cell_type": "code",
   "execution_count": 21,
   "id": "fossil-evolution",
   "metadata": {},
   "outputs": [],
   "source": [
    "numeritos = [1,6,4,2,8,19,475]"
   ]
  },
  {
   "cell_type": "code",
   "execution_count": null,
   "id": "polar-referral",
   "metadata": {},
   "outputs": [],
   "source": [
    "#Ejemplo\n",
    "#Creamos una lista nueva con el número multiplicado por 2 si es par y con la palabra \"impar\" si es impar"
   ]
  },
  {
   "cell_type": "markdown",
   "id": "shaped-balance",
   "metadata": {},
   "source": [
    "Cuidado con la sintaxis, en este caso va a cambiar, la sintaxis de la comprehension será:      \n",
    "`[elemento if / else for elemento in loquesea]`"
   ]
  },
  {
   "cell_type": "code",
   "execution_count": 22,
   "id": "periodic-florida",
   "metadata": {},
   "outputs": [],
   "source": [
    "nueva_num = [num*2 if num%2==0 else \"impar\" for num in numeritos]"
   ]
  },
  {
   "cell_type": "code",
   "execution_count": 24,
   "id": "naked-business",
   "metadata": {},
   "outputs": [
    {
     "name": "stdout",
     "output_type": "stream",
     "text": [
      "['impar', 12, 8, 4, 16, 'impar', 'impar']\n"
     ]
    }
   ],
   "source": [
    "print(nueva_num)"
   ]
  },
  {
   "cell_type": "markdown",
   "id": "social-brush",
   "metadata": {},
   "source": [
    "## Comprensión de listas dobles"
   ]
  },
  {
   "cell_type": "markdown",
   "id": "previous-mambo",
   "metadata": {},
   "source": [
    "Somos 3 amigas. Queremos visitar 3 países.  \n",
    "Crea una lista de cadenas, que contenga todas las posibilidades de \"nombre ama país\""
   ]
  },
  {
   "cell_type": "code",
   "execution_count": 25,
   "id": "noble-ratio",
   "metadata": {},
   "outputs": [],
   "source": [
    "amigas = [\"Sonia\", \"Belén\", \"Ana\", \"Lore\"]\n",
    "paises = [\"Bulgaria\", \"Checoslovaquia\", \"Kurdijstan\", \"Canadá\"]"
   ]
  },
  {
   "cell_type": "code",
   "execution_count": 26,
   "id": "narrow-viking",
   "metadata": {},
   "outputs": [],
   "source": [
    "#Bucle clásico\n",
    "super_lista = []\n",
    "for a in amigas:\n",
    "    for p in paises:\n",
    "        super_lista.append(f\"{a} quiere ir a {p}\")"
   ]
  },
  {
   "cell_type": "code",
   "execution_count": 27,
   "id": "amazing-district",
   "metadata": {},
   "outputs": [
    {
     "data": {
      "text/plain": [
       "['Sonia quiere ir a Bulgaria',\n",
       " 'Sonia quiere ir a Checoslovaquia',\n",
       " 'Sonia quiere ir a Kurdijstan',\n",
       " 'Sonia quiere ir a Canadá',\n",
       " 'Belén quiere ir a Bulgaria',\n",
       " 'Belén quiere ir a Checoslovaquia',\n",
       " 'Belén quiere ir a Kurdijstan',\n",
       " 'Belén quiere ir a Canadá',\n",
       " 'Ana quiere ir a Bulgaria',\n",
       " 'Ana quiere ir a Checoslovaquia',\n",
       " 'Ana quiere ir a Kurdijstan',\n",
       " 'Ana quiere ir a Canadá',\n",
       " 'Lore quiere ir a Bulgaria',\n",
       " 'Lore quiere ir a Checoslovaquia',\n",
       " 'Lore quiere ir a Kurdijstan',\n",
       " 'Lore quiere ir a Canadá']"
      ]
     },
     "execution_count": 27,
     "metadata": {},
     "output_type": "execute_result"
    }
   ],
   "source": [
    "super_lista"
   ]
  },
  {
   "cell_type": "code",
   "execution_count": 28,
   "id": "vital-karaoke",
   "metadata": {},
   "outputs": [
    {
     "data": {
      "text/plain": [
       "['Sonia quiere ir a Bulgaria',\n",
       " 'Sonia quiere ir a Checoslovaquia',\n",
       " 'Sonia quiere ir a Kurdijstan',\n",
       " 'Sonia quiere ir a Canadá',\n",
       " 'Belén quiere ir a Bulgaria',\n",
       " 'Belén quiere ir a Checoslovaquia',\n",
       " 'Belén quiere ir a Kurdijstan',\n",
       " 'Belén quiere ir a Canadá',\n",
       " 'Ana quiere ir a Bulgaria',\n",
       " 'Ana quiere ir a Checoslovaquia',\n",
       " 'Ana quiere ir a Kurdijstan',\n",
       " 'Ana quiere ir a Canadá',\n",
       " 'Lore quiere ir a Bulgaria',\n",
       " 'Lore quiere ir a Checoslovaquia',\n",
       " 'Lore quiere ir a Kurdijstan',\n",
       " 'Lore quiere ir a Canadá']"
      ]
     },
     "execution_count": 28,
     "metadata": {},
     "output_type": "execute_result"
    }
   ],
   "source": [
    "# list comprehension\n",
    "super_lista_cl = [f\"{a} quiere ir a {p}\" for a in amigas for p in paises]\n",
    "super_lista_cl"
   ]
  },
  {
   "cell_type": "markdown",
   "id": "complex-appraisal",
   "metadata": {},
   "source": [
    "## Comprensiones de listas anidadas"
   ]
  },
  {
   "cell_type": "code",
   "execution_count": 29,
   "id": "american-stress",
   "metadata": {},
   "outputs": [
    {
     "data": {
      "text/plain": [
       "['Sonia', 'Belén', 'Ana', 'Lore']"
      ]
     },
     "execution_count": 29,
     "metadata": {},
     "output_type": "execute_result"
    }
   ],
   "source": [
    "amigas"
   ]
  },
  {
   "cell_type": "markdown",
   "id": "handled-scoop",
   "metadata": {},
   "source": [
    "Vamos a crear una lista de listas con un bucle for"
   ]
  },
  {
   "cell_type": "code",
   "execution_count": 30,
   "id": "fossil-cologne",
   "metadata": {},
   "outputs": [
    {
     "data": {
      "text/plain": [
       "[['Sonia', 'SONIA', 'sONIA'],\n",
       " ['Belén', 'BELÉN', 'bELÉN'],\n",
       " ['Ana', 'ANA', 'aNA'],\n",
       " ['Lore', 'LORE', 'lORE']]"
      ]
     },
     "execution_count": 30,
     "metadata": {},
     "output_type": "execute_result"
    }
   ],
   "source": [
    "amigas_otra = []\n",
    "for a in amigas:\n",
    "    lista = [a,a.upper(), a.swapcase()]\n",
    "    amigas_otra.append(lista)\n",
    "amigas_otra"
   ]
  },
  {
   "cell_type": "code",
   "execution_count": 31,
   "id": "technological-naples",
   "metadata": {},
   "outputs": [
    {
     "data": {
      "text/plain": [
       "['Sonia', 'SONIA', 'sONIA']"
      ]
     },
     "execution_count": 31,
     "metadata": {},
     "output_type": "execute_result"
    }
   ],
   "source": [
    "amigas_otra[0]"
   ]
  },
  {
   "cell_type": "markdown",
   "id": "wound-legislature",
   "metadata": {},
   "source": [
    "¿Cómo haríamos esta lista de listas con comprehension list?"
   ]
  },
  {
   "cell_type": "code",
   "execution_count": 32,
   "id": "allied-poker",
   "metadata": {},
   "outputs": [
    {
     "data": {
      "text/plain": [
       "[['Sonia', 'SONIA', 'sONIA'],\n",
       " ['Belén', 'BELÉN', 'bELÉN'],\n",
       " ['Ana', 'ANA', 'aNA'],\n",
       " ['Lore', 'LORE', 'lORE']]"
      ]
     },
     "execution_count": 32,
     "metadata": {},
     "output_type": "execute_result"
    }
   ],
   "source": [
    "# List comprehension\n",
    "otra_mas = [[a,a.upper(), a.swapcase()] for a in amigas]\n",
    "otra_mas"
   ]
  },
  {
   "cell_type": "markdown",
   "id": "primary-albany",
   "metadata": {},
   "source": [
    "Y.... ¿Cómo deshacemos una lista de listas?"
   ]
  },
  {
   "cell_type": "code",
   "execution_count": 33,
   "id": "stock-workshop",
   "metadata": {},
   "outputs": [
    {
     "data": {
      "text/plain": [
       "list"
      ]
     },
     "execution_count": 33,
     "metadata": {},
     "output_type": "execute_result"
    }
   ],
   "source": [
    "type(otra_mas)"
   ]
  },
  {
   "cell_type": "code",
   "execution_count": 34,
   "id": "special-straight",
   "metadata": {},
   "outputs": [
    {
     "data": {
      "text/plain": [
       "['Sonia',\n",
       " 'SONIA',\n",
       " 'sONIA',\n",
       " 'Belén',\n",
       " 'BELÉN',\n",
       " 'bELÉN',\n",
       " 'Ana',\n",
       " 'ANA',\n",
       " 'aNA',\n",
       " 'Lore',\n",
       " 'LORE',\n",
       " 'lORE']"
      ]
     },
     "execution_count": 34,
     "metadata": {},
     "output_type": "execute_result"
    }
   ],
   "source": [
    "aplanada = []\n",
    "for i in otra_mas:\n",
    "    for j in i:\n",
    "        aplanada.append(j)\n",
    "aplanada"
   ]
  },
  {
   "cell_type": "code",
   "execution_count": 35,
   "id": "rental-irish",
   "metadata": {},
   "outputs": [
    {
     "data": {
      "text/plain": [
       "12"
      ]
     },
     "execution_count": 35,
     "metadata": {},
     "output_type": "execute_result"
    }
   ],
   "source": [
    "len(aplanada)"
   ]
  },
  {
   "cell_type": "code",
   "execution_count": 36,
   "id": "regular-spider",
   "metadata": {},
   "outputs": [
    {
     "data": {
      "text/plain": [
       "list"
      ]
     },
     "execution_count": 36,
     "metadata": {},
     "output_type": "execute_result"
    }
   ],
   "source": [
    "type(aplanada)"
   ]
  },
  {
   "cell_type": "code",
   "execution_count": 38,
   "id": "honest-music",
   "metadata": {},
   "outputs": [
    {
     "data": {
      "text/plain": [
       "['Sonia',\n",
       " 'SONIA',\n",
       " 'sONIA',\n",
       " 'Belén',\n",
       " 'BELÉN',\n",
       " 'bELÉN',\n",
       " 'Ana',\n",
       " 'ANA',\n",
       " 'aNA',\n",
       " 'Lore',\n",
       " 'LORE',\n",
       " 'lORE']"
      ]
     },
     "execution_count": 38,
     "metadata": {},
     "output_type": "execute_result"
    }
   ],
   "source": [
    "aplanda_comp = [j for i in otra_mas for j in i]\n",
    "aplanda_comp"
   ]
  },
  {
   "cell_type": "markdown",
   "id": "systematic-experiment",
   "metadata": {},
   "source": [
    "## Comprensiones de diccionario"
   ]
  },
  {
   "cell_type": "code",
   "execution_count": 39,
   "id": "proper-wallpaper",
   "metadata": {},
   "outputs": [],
   "source": [
    "nombres = [\"Ras\", \"Sonia\", \"Dobby\", \"Ana\"]\n",
    "emojis = [\"🚀\", \"🐋\", \"🐶\", \"🍃\"]"
   ]
  },
  {
   "cell_type": "code",
   "execution_count": 40,
   "id": "fatty-tiger",
   "metadata": {},
   "outputs": [],
   "source": [
    "pruebita = zip(nombres,emojis)"
   ]
  },
  {
   "cell_type": "code",
   "execution_count": 42,
   "id": "offensive-mexico",
   "metadata": {},
   "outputs": [
    {
     "data": {
      "text/plain": [
       "[('Ras', '🚀'), ('Sonia', '🐋'), ('Dobby', '🐶'), ('Ana', '🍃')]"
      ]
     },
     "execution_count": 42,
     "metadata": {},
     "output_type": "execute_result"
    }
   ],
   "source": [
    "list(pruebita)"
   ]
  },
  {
   "cell_type": "markdown",
   "id": "medical-insider",
   "metadata": {},
   "source": [
    "¿Cómo lo haríamos con un bucle normal?"
   ]
  },
  {
   "cell_type": "code",
   "execution_count": 43,
   "id": "tough-peeing",
   "metadata": {},
   "outputs": [],
   "source": [
    "dicc_ = {}\n",
    "for nombre,emoji in zip(nombres,emojis):\n",
    "    dicc_[nombre] = emoji"
   ]
  },
  {
   "cell_type": "code",
   "execution_count": 44,
   "id": "collectible-beach",
   "metadata": {},
   "outputs": [
    {
     "data": {
      "text/plain": [
       "{'Ras': '🚀', 'Sonia': '🐋', 'Dobby': '🐶', 'Ana': '🍃'}"
      ]
     },
     "execution_count": 44,
     "metadata": {},
     "output_type": "execute_result"
    }
   ],
   "source": [
    "dicc_"
   ]
  },
  {
   "cell_type": "markdown",
   "id": "facial-bathroom",
   "metadata": {},
   "source": [
    "¿Cómo lo hacemos con Comprehension Dict?"
   ]
  },
  {
   "cell_type": "code",
   "execution_count": 45,
   "id": "bright-latin",
   "metadata": {},
   "outputs": [],
   "source": [
    "dicc_comp = {nombre:emoji for nombre,emoji in zip(nombres,emojis)}"
   ]
  },
  {
   "cell_type": "code",
   "execution_count": 46,
   "id": "constitutional-daughter",
   "metadata": {},
   "outputs": [
    {
     "data": {
      "text/plain": [
       "{'Ras': '🚀', 'Sonia': '🐋', 'Dobby': '🐶', 'Ana': '🍃'}"
      ]
     },
     "execution_count": 46,
     "metadata": {},
     "output_type": "execute_result"
    }
   ],
   "source": [
    "dicc_comp"
   ]
  },
  {
   "cell_type": "markdown",
   "id": "crazy-treaty",
   "metadata": {},
   "source": [
    "## Retito 🤔\n",
    "Te dan una lista de palabras. Escribe un diccionario que contenga la longitud de cada palabra."
   ]
  },
  {
   "cell_type": "code",
   "execution_count": 47,
   "id": "romantic-tiffany",
   "metadata": {},
   "outputs": [],
   "source": [
    "palabras = [\"café\", \"isla\", \"bucear\", \"animales\", \"vacaciones\", \"dormir\", \"playa\", \"camiseta\"]"
   ]
  },
  {
   "cell_type": "code",
   "execution_count": 48,
   "id": "fabulous-moore",
   "metadata": {},
   "outputs": [],
   "source": [
    "len_list = [len(i) for i in palabras]"
   ]
  },
  {
   "cell_type": "code",
   "execution_count": 50,
   "id": "applied-signature",
   "metadata": {},
   "outputs": [
    {
     "data": {
      "text/plain": [
       "{'café': 4,\n",
       " 'isla': 4,\n",
       " 'bucear': 6,\n",
       " 'animales': 8,\n",
       " 'vacaciones': 10,\n",
       " 'dormir': 6,\n",
       " 'playa': 5,\n",
       " 'camiseta': 8}"
      ]
     },
     "execution_count": 50,
     "metadata": {},
     "output_type": "execute_result"
    }
   ],
   "source": [
    "dicc_len = {palabras:len_list for palabras,len_list in zip(palabras,len_list)}\n",
    "dicc_len"
   ]
  },
  {
   "cell_type": "code",
   "execution_count": 52,
   "id": "technical-mixer",
   "metadata": {},
   "outputs": [
    {
     "data": {
      "text/plain": [
       "{'café': 4,\n",
       " 'isla': 4,\n",
       " 'bucear': 6,\n",
       " 'animales': 8,\n",
       " 'vacaciones': 10,\n",
       " 'dormir': 6,\n",
       " 'playa': 5,\n",
       " 'camiseta': 8}"
      ]
     },
     "execution_count": 52,
     "metadata": {},
     "output_type": "execute_result"
    }
   ],
   "source": [
    "palabra_len = {i:len(i) for i in palabras}\n",
    "palabra_len"
   ]
  },
  {
   "cell_type": "markdown",
   "id": "opponent-diversity",
   "metadata": {},
   "source": [
    "## Retito 🤔\n",
    "Se le dan los pares país-dato de un tema determinado (no nos importa). \n",
    "- Construye una lista con los países\n",
    "- Construye un diccionario con los países y el dato"
   ]
  },
  {
   "cell_type": "code",
   "execution_count": 53,
   "id": "alone-stanley",
   "metadata": {},
   "outputs": [],
   "source": [
    "codes = [\"es-91\", \"en-88\", \"fr-12\", \"it-33\", \"ar-55\", \"au-66\", \"usa-55\"]"
   ]
  },
  {
   "cell_type": "code",
   "execution_count": 55,
   "id": "indoor-poetry",
   "metadata": {},
   "outputs": [
    {
     "data": {
      "text/plain": [
       "['es', 'en', 'fr', 'it', 'ar', 'au', 'usa']"
      ]
     },
     "execution_count": 55,
     "metadata": {},
     "output_type": "execute_result"
    }
   ],
   "source": [
    "# Bucle clásico\n",
    "lpais = []\n",
    "for i in codes:\n",
    "    lpais.append(i.split(\"-\")[0])\n",
    "\n",
    "lpais"
   ]
  },
  {
   "cell_type": "code",
   "execution_count": 56,
   "id": "eligible-music",
   "metadata": {},
   "outputs": [
    {
     "data": {
      "text/plain": [
       "['es', 'en', 'fr', 'it', 'ar', 'au', 'usa']"
      ]
     },
     "execution_count": 56,
     "metadata": {},
     "output_type": "execute_result"
    }
   ],
   "source": [
    "#List comprehension\n",
    "listpais = [i.split(\"-\")[0] for i in codes]\n",
    "listpais"
   ]
  },
  {
   "cell_type": "code",
   "execution_count": 58,
   "id": "coordinate-recall",
   "metadata": {},
   "outputs": [],
   "source": [
    "# Bucle clásico\n",
    "my_dic = {}\n",
    "for i in codes:\n",
    "    my_dic[i.split(\"-\")[0]] = int(i.split(\"-\")[1])\n",
    "    #my_dic [\"key\"] = \"value\"\n",
    "    \n",
    "    "
   ]
  },
  {
   "cell_type": "code",
   "execution_count": 59,
   "id": "lonely-palestine",
   "metadata": {},
   "outputs": [
    {
     "data": {
      "text/plain": [
       "{'es': 91, 'en': 88, 'fr': 12, 'it': 33, 'ar': 55, 'au': 66, 'usa': 55}"
      ]
     },
     "execution_count": 59,
     "metadata": {},
     "output_type": "execute_result"
    }
   ],
   "source": [
    "my_dic"
   ]
  },
  {
   "cell_type": "code",
   "execution_count": 60,
   "id": "cubic-bacon",
   "metadata": {},
   "outputs": [
    {
     "data": {
      "text/plain": [
       "{'es': 91, 'en': 88, 'fr': 12, 'it': 33, 'ar': 55, 'au': 66, 'usa': 55}"
      ]
     },
     "execution_count": 60,
     "metadata": {},
     "output_type": "execute_result"
    }
   ],
   "source": [
    "#List comprehension\n",
    "\n",
    "dicpais= {i.split(\"-\")[0]:int(i.split(\"-\")[1]) for i in codes}\n",
    "dicpais"
   ]
  },
  {
   "cell_type": "markdown",
   "id": "based-expression",
   "metadata": {},
   "source": [
    "## Último retito\n",
    "Saca también, con un set comprehension, solamente los códigos de países únicos"
   ]
  },
  {
   "cell_type": "code",
   "execution_count": 61,
   "id": "unable-liabilities",
   "metadata": {},
   "outputs": [],
   "source": [
    "codes2 = [\"es-91\", \"en-88\", \"en-43\", \"fr-12\", \"it-33\", \"es-15\", \"fr-55\", \"es-66\", \"usa-55\"]"
   ]
  },
  {
   "cell_type": "code",
   "execution_count": 64,
   "id": "unknown-endorsement",
   "metadata": {},
   "outputs": [
    {
     "data": {
      "text/plain": [
       "{'en', 'es', 'fr', 'it', 'usa'}"
      ]
     },
     "execution_count": 64,
     "metadata": {},
     "output_type": "execute_result"
    }
   ],
   "source": [
    "# Bucle clásico\n",
    "st = set()\n",
    "for i in codes2:\n",
    "    st.add(i.split('-')[0])\n",
    "st"
   ]
  },
  {
   "cell_type": "code",
   "execution_count": 65,
   "id": "blank-license",
   "metadata": {},
   "outputs": [
    {
     "data": {
      "text/plain": [
       "{'en', 'es', 'fr', 'it', 'usa'}"
      ]
     },
     "execution_count": 65,
     "metadata": {},
     "output_type": "execute_result"
    }
   ],
   "source": [
    "# List comprehension\n",
    "\n",
    "new_codes = set(i.split(\"-\")[0] for i in codes2)\n",
    "new_codes"
   ]
  },
  {
   "cell_type": "code",
   "execution_count": 66,
   "id": "serial-charge",
   "metadata": {},
   "outputs": [
    {
     "data": {
      "text/plain": [
       "{'en', 'es', 'fr', 'it', 'usa'}"
      ]
     },
     "execution_count": 66,
     "metadata": {},
     "output_type": "execute_result"
    }
   ],
   "source": [
    "set1 = {x.split(\"-\")[0] for x in codes2}\n",
    "set1"
   ]
  },
  {
   "cell_type": "code",
   "execution_count": 67,
   "id": "crude-duncan",
   "metadata": {},
   "outputs": [
    {
     "data": {
      "text/plain": [
       "set"
      ]
     },
     "execution_count": 67,
     "metadata": {},
     "output_type": "execute_result"
    }
   ],
   "source": [
    "type(set1)"
   ]
  },
  {
   "cell_type": "markdown",
   "id": "published-builder",
   "metadata": {},
   "source": [
    "# Repaso de sets ( ayer)"
   ]
  },
  {
   "cell_type": "code",
   "execution_count": 70,
   "id": "labeled-benchmark",
   "metadata": {},
   "outputs": [],
   "source": [
    "set_vacio = set()"
   ]
  },
  {
   "cell_type": "code",
   "execution_count": 71,
   "id": "disabled-nursery",
   "metadata": {},
   "outputs": [
    {
     "data": {
      "text/plain": [
       "set"
      ]
     },
     "execution_count": 71,
     "metadata": {},
     "output_type": "execute_result"
    }
   ],
   "source": [
    "type(set_vacio)"
   ]
  },
  {
   "cell_type": "code",
   "execution_count": 72,
   "id": "opposite-letter",
   "metadata": {},
   "outputs": [],
   "source": [
    "miset = {1,2,3,4}"
   ]
  },
  {
   "cell_type": "code",
   "execution_count": 73,
   "id": "floating-pregnancy",
   "metadata": {},
   "outputs": [
    {
     "data": {
      "text/plain": [
       "set"
      ]
     },
     "execution_count": 73,
     "metadata": {},
     "output_type": "execute_result"
    }
   ],
   "source": [
    "type(miset)"
   ]
  },
  {
   "cell_type": "code",
   "execution_count": 74,
   "id": "silver-wealth",
   "metadata": {},
   "outputs": [],
   "source": [
    "dict_vacio ={()}"
   ]
  },
  {
   "cell_type": "code",
   "execution_count": 75,
   "id": "disturbed-organization",
   "metadata": {},
   "outputs": [
    {
     "data": {
      "text/plain": [
       "set"
      ]
     },
     "execution_count": 75,
     "metadata": {},
     "output_type": "execute_result"
    }
   ],
   "source": [
    "type(dict_vacio)"
   ]
  },
  {
   "cell_type": "markdown",
   "id": "christian-hours",
   "metadata": {},
   "source": [
    "# Resumen\n",
    "\n",
    "- List comprehension -->> Forma\"fácil\" de hacer en una línea listas, diccionarios, sets.\n",
    "- Podemos usar condicionales\n",
    "- Podemos iterar por dos listas a la vez\n",
    "- Sirven para compactar el código\n",
    "- Podemos crear listas de listas\n",
    "- Podemos aplanar listas de listas"
   ]
  }
 ],
 "metadata": {
  "kernelspec": {
   "display_name": "ironhack",
   "language": "python",
   "name": "ironhack"
  },
  "language_info": {
   "codemirror_mode": {
    "name": "ipython",
    "version": 3
   },
   "file_extension": ".py",
   "mimetype": "text/x-python",
   "name": "python",
   "nbconvert_exporter": "python",
   "pygments_lexer": "ipython3",
   "version": "3.8.5"
  },
  "toc": {
   "base_numbering": 1,
   "nav_menu": {},
   "number_sections": true,
   "sideBar": true,
   "skip_h1_title": true,
   "title_cell": "Table of Contents",
   "title_sidebar": "Contents",
   "toc_cell": false,
   "toc_position": {},
   "toc_section_display": true,
   "toc_window_display": false
  },
  "varInspector": {
   "cols": {
    "lenName": 16,
    "lenType": 16,
    "lenVar": 40
   },
   "kernels_config": {
    "python": {
     "delete_cmd_postfix": "",
     "delete_cmd_prefix": "del ",
     "library": "var_list.py",
     "varRefreshCmd": "print(var_dic_list())"
    },
    "r": {
     "delete_cmd_postfix": ") ",
     "delete_cmd_prefix": "rm(",
     "library": "var_list.r",
     "varRefreshCmd": "cat(var_dic_list()) "
    }
   },
   "types_to_exclude": [
    "module",
    "function",
    "builtin_function_or_method",
    "instance",
    "_Feature"
   ],
   "window_display": false
  }
 },
 "nbformat": 4,
 "nbformat_minor": 5
}
