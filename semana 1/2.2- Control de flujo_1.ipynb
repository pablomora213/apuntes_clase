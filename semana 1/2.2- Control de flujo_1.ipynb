{
 "cells": [
  {
   "cell_type": "markdown",
   "id": "subjective-quarter",
   "metadata": {
    "toc": true
   },
   "source": [
    "<h1>Table of Contents<span class=\"tocSkip\"></span></h1>\n",
    "<div class=\"toc\"><ul class=\"toc-item\"><li><span><a href=\"#Operadores-de-asignación\" data-toc-modified-id=\"Operadores-de-asignación-1\"><span class=\"toc-item-num\">1&nbsp;&nbsp;</span>Operadores de asignación</a></span></li><li><span><a href=\"#Operadores-aritméticos\" data-toc-modified-id=\"Operadores-aritméticos-2\"><span class=\"toc-item-num\">2&nbsp;&nbsp;</span>Operadores aritméticos</a></span></li><li><span><a href=\"#Operadores-relacionales\" data-toc-modified-id=\"Operadores-relacionales-3\"><span class=\"toc-item-num\">3&nbsp;&nbsp;</span>Operadores relacionales</a></span></li><li><span><a href=\"#Operadores-lógicos/booleanos\" data-toc-modified-id=\"Operadores-lógicos/booleanos-4\"><span class=\"toc-item-num\">4&nbsp;&nbsp;</span>Operadores lógicos/booleanos</a></span><ul class=\"toc-item\"><li><ul class=\"toc-item\"><li><span><a href=\"#Extra-para-Nerds-🤓(echad-un-ojo-y-jugad-con-las-celdas-de-abajo)\" data-toc-modified-id=\"Extra-para-Nerds-🤓(echad-un-ojo-y-jugad-con-las-celdas-de-abajo)-4.0.1\"><span class=\"toc-item-num\">4.0.1&nbsp;&nbsp;</span>Extra para Nerds 🤓(echad un ojo y jugad con las celdas de abajo)</a></span></li></ul></li></ul></li><li><span><a href=\"#Identity-operators\" data-toc-modified-id=\"Identity-operators-5\"><span class=\"toc-item-num\">5&nbsp;&nbsp;</span>Identity operators</a></span></li><li><span><a href=\"#Pseudocódigo\" data-toc-modified-id=\"Pseudocódigo-6\"><span class=\"toc-item-num\">6&nbsp;&nbsp;</span>Pseudocódigo</a></span></li><li><span><a href=\"#La-sentencia-&quot;If\" data-toc-modified-id=\"La-sentencia-&quot;If-7\"><span class=\"toc-item-num\">7&nbsp;&nbsp;</span>La sentencia \"If</a></span><ul class=\"toc-item\"><li><span><a href=\"#Vuestros-ejemplos-🚀\" data-toc-modified-id=\"Vuestros-ejemplos-🚀-7.1\"><span class=\"toc-item-num\">7.1&nbsp;&nbsp;</span>Vuestros ejemplos 🚀</a></span></li><li><span><a href=\"#else\" data-toc-modified-id=\"else-7.2\"><span class=\"toc-item-num\">7.2&nbsp;&nbsp;</span>else</a></span></li><li><span><a href=\"#elif\" data-toc-modified-id=\"elif-7.3\"><span class=\"toc-item-num\">7.3&nbsp;&nbsp;</span>elif</a></span></li></ul></li><li><span><a href=\"#Summary\" data-toc-modified-id=\"Summary-8\"><span class=\"toc-item-num\">8&nbsp;&nbsp;</span>Summary</a></span></li><li><span><a href=\"#Further-materials\" data-toc-modified-id=\"Further-materials-9\"><span class=\"toc-item-num\">9&nbsp;&nbsp;</span>Further materials</a></span></li></ul></div>"
   ]
  },
  {
   "cell_type": "markdown",
   "id": "italic-editor",
   "metadata": {},
   "source": [
    "# Control Flow    \n",
    "Let`s go with the flow"
   ]
  },
  {
   "cell_type": "markdown",
   "id": "published-emerald",
   "metadata": {},
   "source": [
    "![the_flow](https://media.giphy.com/media/SA6RvPmPJVlJoqYo7U/giphy.gif)"
   ]
  },
  {
   "cell_type": "markdown",
   "id": "looking-stylus",
   "metadata": {},
   "source": [
    "## Operadores de asignación"
   ]
  },
  {
   "cell_type": "markdown",
   "id": "civil-motorcycle",
   "metadata": {},
   "source": [
    "Los operadores de asignación son los que permiten dar un valor a una variable o modificarla. Python tiene ocho operadores de asignación diferentes: un operador de asignación simple y siete operadores de asignación compuestos."
   ]
  },
  {
   "cell_type": "markdown",
   "id": "convertible-disposal",
   "metadata": {},
   "source": [
    "* `=` Asignación simple `a=b`     \n",
    "* `+=` Asignación de adición `a+=b`   Equivalente simple `a=a+b`   \n",
    "* `-=` Asignación de sustracción `a-=b` Equivalente simple `a=a-b`       \n",
    "* `*=` Asignación de la multiplicación `a*=b` Equivalente simple `a=a*b`\n",
    "* `/=` Asignación de división `a/=b` Equivalente simple `a=a/b`   \n",
    "* `%=` Asignación de módulo`a/=b` Equivalente simple `a=a%b`    \n",
    "* `//=` Asignación de división entera `a//=b` Equivalente simple `a=a//b`  "
   ]
  },
  {
   "cell_type": "markdown",
   "id": "drawn-reason",
   "metadata": {},
   "source": [
    "El operador de asignación simple es el símbolo igual (=) y las operaciones realizadas con él tienen siempre la sintaxis: `variable = expresión`. En este tipo de operaciones, en primer lugar, se resuelve la expresión de la derecha y el valor resultante se asigna a la variable de la izquierda."
   ]
  },
  {
   "cell_type": "code",
   "execution_count": 1,
   "id": "checked-isaac",
   "metadata": {},
   "outputs": [],
   "source": [
    "a = 7"
   ]
  },
  {
   "cell_type": "code",
   "execution_count": 2,
   "id": "representative-retirement",
   "metadata": {},
   "outputs": [],
   "source": [
    "b = 4"
   ]
  },
  {
   "cell_type": "code",
   "execution_count": 3,
   "id": "appropriate-poison",
   "metadata": {},
   "outputs": [],
   "source": [
    "c = a + b"
   ]
  },
  {
   "cell_type": "code",
   "execution_count": 4,
   "id": "controlled-portable",
   "metadata": {},
   "outputs": [
    {
     "data": {
      "text/plain": [
       "11"
      ]
     },
     "execution_count": 4,
     "metadata": {},
     "output_type": "execute_result"
    }
   ],
   "source": [
    "c"
   ]
  },
  {
   "cell_type": "code",
   "execution_count": 5,
   "id": "amino-victorian",
   "metadata": {},
   "outputs": [],
   "source": [
    "# // división  entera"
   ]
  },
  {
   "cell_type": "code",
   "execution_count": 6,
   "id": "induced-costa",
   "metadata": {},
   "outputs": [
    {
     "data": {
      "text/plain": [
       "1"
      ]
     },
     "execution_count": 6,
     "metadata": {},
     "output_type": "execute_result"
    }
   ],
   "source": [
    "a//b"
   ]
  },
  {
   "cell_type": "code",
   "execution_count": 7,
   "id": "coral-editor",
   "metadata": {},
   "outputs": [],
   "source": [
    "c //=b"
   ]
  },
  {
   "cell_type": "code",
   "execution_count": 8,
   "id": "interstate-whole",
   "metadata": {},
   "outputs": [
    {
     "data": {
      "text/plain": [
       "2"
      ]
     },
     "execution_count": 8,
     "metadata": {},
     "output_type": "execute_result"
    }
   ],
   "source": [
    "c"
   ]
  },
  {
   "cell_type": "code",
   "execution_count": 9,
   "id": "egyptian-length",
   "metadata": {},
   "outputs": [
    {
     "data": {
      "text/plain": [
       "3"
      ]
     },
     "execution_count": 9,
     "metadata": {},
     "output_type": "execute_result"
    }
   ],
   "source": [
    "a % b"
   ]
  },
  {
   "cell_type": "code",
   "execution_count": 10,
   "id": "comparative-aggregate",
   "metadata": {},
   "outputs": [
    {
     "data": {
      "text/plain": [
       "7"
      ]
     },
     "execution_count": 10,
     "metadata": {},
     "output_type": "execute_result"
    }
   ],
   "source": [
    "# Puedo igualar una variable con la suma\n",
    "a"
   ]
  },
  {
   "cell_type": "code",
   "execution_count": 15,
   "id": "departmental-reservoir",
   "metadata": {},
   "outputs": [],
   "source": [
    "a+=1"
   ]
  },
  {
   "cell_type": "code",
   "execution_count": 16,
   "id": "atmospheric-jesus",
   "metadata": {},
   "outputs": [
    {
     "data": {
      "text/plain": [
       "10"
      ]
     },
     "execution_count": 16,
     "metadata": {},
     "output_type": "execute_result"
    }
   ],
   "source": [
    "a"
   ]
  },
  {
   "cell_type": "markdown",
   "id": "recent-gambling",
   "metadata": {},
   "source": [
    "## Operadores aritméticos"
   ]
  },
  {
   "cell_type": "markdown",
   "id": "union-arbitration",
   "metadata": {},
   "source": [
    "Los operadores aritméticos se utilizan para realizar operaciones aritméticas, es decir, para manipular datos numéricos mediante operaciones matemáticas como la suma, la resta o la multiplicación....."
   ]
  },
  {
   "cell_type": "code",
   "execution_count": 17,
   "id": "driven-belly",
   "metadata": {},
   "outputs": [
    {
     "data": {
      "text/plain": [
       "12"
      ]
     },
     "execution_count": 17,
     "metadata": {},
     "output_type": "execute_result"
    }
   ],
   "source": [
    "a + c"
   ]
  },
  {
   "cell_type": "code",
   "execution_count": 18,
   "id": "boolean-princess",
   "metadata": {},
   "outputs": [
    {
     "data": {
      "text/plain": [
       "6"
      ]
     },
     "execution_count": 18,
     "metadata": {},
     "output_type": "execute_result"
    }
   ],
   "source": [
    "a-b"
   ]
  },
  {
   "cell_type": "code",
   "execution_count": 19,
   "id": "compatible-marketing",
   "metadata": {},
   "outputs": [
    {
     "data": {
      "text/plain": [
       "2"
      ]
     },
     "execution_count": 19,
     "metadata": {},
     "output_type": "execute_result"
    }
   ],
   "source": [
    "# División entera\n",
    "a//b"
   ]
  },
  {
   "cell_type": "markdown",
   "id": "boolean-diamond",
   "metadata": {},
   "source": [
    "## Operadores relacionales"
   ]
  },
  {
   "cell_type": "markdown",
   "id": "recorded-penetration",
   "metadata": {},
   "source": [
    "Los operadores relacionales son símbolos utilizados para comparar dos valores o expresiones. El resultado de la evaluación con estos dos operadores puede ser True, si la comparación es verdadera, o False, si la comparación es falsa."
   ]
  },
  {
   "cell_type": "markdown",
   "id": "infrared-accounting",
   "metadata": {},
   "source": [
    "*      `==` Igual a `a==b` \n",
    "*      `!=` Distinto de `a!=b` \n",
    "*      `>` Mayor que `a>b` \n",
    "*      `<` Menor que `a<b` \n",
    "*      `>=` Mayor o igual que `a>=b` \n",
    "*      `<=` Menor o igual que `a<=b` "
   ]
  },
  {
   "cell_type": "markdown",
   "id": "phantom-installation",
   "metadata": {},
   "source": [
    "Observe la diferencia entre un signo de igualdad simple (=), que es una asignación, y un signo de igualdad doble (==), que es un operador relacional    \n",
    "**Consejo: Utiliza los paréntesis para mantener el orden de las operaciones."
   ]
  },
  {
   "cell_type": "code",
   "execution_count": null,
   "id": "historical-poster",
   "metadata": {},
   "outputs": [],
   "source": [
    "# Juguemos!"
   ]
  },
  {
   "cell_type": "code",
   "execution_count": 20,
   "id": "descending-marsh",
   "metadata": {},
   "outputs": [],
   "source": [
    "x = 8"
   ]
  },
  {
   "cell_type": "code",
   "execution_count": 21,
   "id": "korean-weather",
   "metadata": {},
   "outputs": [],
   "source": [
    "y = 12"
   ]
  },
  {
   "cell_type": "code",
   "execution_count": 22,
   "id": "later-special",
   "metadata": {},
   "outputs": [
    {
     "data": {
      "text/plain": [
       "False"
      ]
     },
     "execution_count": 22,
     "metadata": {},
     "output_type": "execute_result"
    }
   ],
   "source": [
    "x == y"
   ]
  },
  {
   "cell_type": "code",
   "execution_count": 23,
   "id": "excessive-fellowship",
   "metadata": {},
   "outputs": [
    {
     "data": {
      "text/plain": [
       "True"
      ]
     },
     "execution_count": 23,
     "metadata": {},
     "output_type": "execute_result"
    }
   ],
   "source": [
    "x != y"
   ]
  },
  {
   "cell_type": "code",
   "execution_count": 24,
   "id": "liable-mailman",
   "metadata": {},
   "outputs": [
    {
     "data": {
      "text/plain": [
       "False"
      ]
     },
     "execution_count": 24,
     "metadata": {},
     "output_type": "execute_result"
    }
   ],
   "source": [
    "x > y"
   ]
  },
  {
   "cell_type": "code",
   "execution_count": 25,
   "id": "subjective-compromise",
   "metadata": {},
   "outputs": [
    {
     "data": {
      "text/plain": [
       "True"
      ]
     },
     "execution_count": 25,
     "metadata": {},
     "output_type": "execute_result"
    }
   ],
   "source": [
    "x <= y"
   ]
  },
  {
   "cell_type": "code",
   "execution_count": 26,
   "id": "afraid-rocket",
   "metadata": {},
   "outputs": [
    {
     "data": {
      "text/plain": [
       "True"
      ]
     },
     "execution_count": 26,
     "metadata": {},
     "output_type": "execute_result"
    }
   ],
   "source": [
    "x<y"
   ]
  },
  {
   "cell_type": "markdown",
   "id": "moved-constitution",
   "metadata": {},
   "source": [
    "## Operadores lógicos/booleanos"
   ]
  },
  {
   "cell_type": "markdown",
   "id": "indirect-butter",
   "metadata": {},
   "source": [
    "Los operadores lógicos o booleanos son los que permiten conectar dos expresiones de comparación y evaluarlas lógicamente, excepto el operador not, que invierte el valor lógico de la expresión a la que se aplica. En Python existen tres operadores lógicos: and(y), or(o) y not(no). Las operaciones con estos operadores siempre devuelven un valor booleano: Verdadero o Falso."
   ]
  },
  {
   "cell_type": "markdown",
   "id": "assumed-stand",
   "metadata": {},
   "source": [
    "Con sólo estos dos valores `Verdadero`|`Falso` podemos crear toda una rama de las matemáticas llamada [Álgebra de Boole](https://en.wikipedia.org/wiki/Boolean_algebra#Laws). Mientras que en el Álgebra regular las operaciones básicas son la suma y la multiplicación, las principales operaciones del Álgebra de Boole son la conjunción (y) denotada como ∧, la disyunción (o) denotada como ∨, y la negación (no) denotada como ¬. **Es el formalismo utilizado para describir las operaciones lógicas**.\n",
    "\n",
    "En [Python escribimos estas operaciones](https://www.geeksforgeeks.org/python-3-logical-operators/?ref=rp) como:\n",
    "\n",
    "* `x` and `y` \n",
    "* `x` or `y`\n",
    "* not `x`\n",
    "\n",
    "Aunque el significado de estas operaciones es claro, podemos definirlas completamente con la llamada \"tabla de verdad\":"
   ]
  },
  {
   "cell_type": "markdown",
   "id": "coral-armenia",
   "metadata": {},
   "source": [
    "![tablas](http://elclubdelautodidacta.es/wp/wp-content/uploads/2012/11/python-logicos.png)"
   ]
  },
  {
   "cell_type": "markdown",
   "id": "considered-violence",
   "metadata": {},
   "source": [
    "El operador **and** evalúa si las dos expresiones son verdaderas. Si ambas expresiones son verdaderas, devuelve True. Si alguna de las expresiones es falsa, devuelve Falso. Este tipo de tablas se conocen formalmente como \"tablas de verdad\"."
   ]
  },
  {
   "cell_type": "code",
   "execution_count": 27,
   "id": "fitted-madonna",
   "metadata": {},
   "outputs": [],
   "source": [
    "hola = True\n",
    "adios = False"
   ]
  },
  {
   "cell_type": "code",
   "execution_count": 28,
   "id": "sustainable-heart",
   "metadata": {},
   "outputs": [
    {
     "name": "stdout",
     "output_type": "stream",
     "text": [
      "False\n"
     ]
    }
   ],
   "source": [
    "print(hola and adios)"
   ]
  },
  {
   "cell_type": "code",
   "execution_count": 29,
   "id": "champion-wisdom",
   "metadata": {},
   "outputs": [
    {
     "name": "stdout",
     "output_type": "stream",
     "text": [
      "True\n"
     ]
    }
   ],
   "source": [
    "print(hola or adios)"
   ]
  },
  {
   "cell_type": "code",
   "execution_count": 30,
   "id": "unauthorized-thong",
   "metadata": {},
   "outputs": [
    {
     "data": {
      "text/plain": [
       "True"
      ]
     },
     "execution_count": 30,
     "metadata": {},
     "output_type": "execute_result"
    }
   ],
   "source": [
    "3>1 and hola"
   ]
  },
  {
   "cell_type": "markdown",
   "id": "psychological-margin",
   "metadata": {},
   "source": [
    "El operador **or** evalúa si cualquiera de las expresiones es verdadera, es decir, devuelve True si cualquiera de las expresiones es verdadera y False cuando ambas expresiones son falsas."
   ]
  },
  {
   "cell_type": "code",
   "execution_count": 31,
   "id": "pharmaceutical-raleigh",
   "metadata": {},
   "outputs": [
    {
     "data": {
      "text/plain": [
       "True"
      ]
     },
     "execution_count": 31,
     "metadata": {},
     "output_type": "execute_result"
    }
   ],
   "source": [
    "3>1 or hola"
   ]
  },
  {
   "cell_type": "code",
   "execution_count": 32,
   "id": "conservative-bloom",
   "metadata": {},
   "outputs": [
    {
     "data": {
      "text/plain": [
       "True"
      ]
     },
     "execution_count": 32,
     "metadata": {},
     "output_type": "execute_result"
    }
   ],
   "source": [
    "3<1 or hola"
   ]
  },
  {
   "cell_type": "code",
   "execution_count": 34,
   "id": "joined-kinase",
   "metadata": {},
   "outputs": [
    {
     "data": {
      "text/plain": [
       "False"
      ]
     },
     "execution_count": 34,
     "metadata": {},
     "output_type": "execute_result"
    }
   ],
   "source": [
    "3<1 or hola and adios"
   ]
  },
  {
   "cell_type": "markdown",
   "id": "varied-species",
   "metadata": {},
   "source": [
    "Por último, el operador **not** es un operador que devuelve el valor opuesto a la expresión evaluada. Si la expresión tiene el valor True, devuelve False. Por el contrario, si la expresión tiene el valor False, devuelve True."
   ]
  },
  {
   "cell_type": "code",
   "execution_count": 35,
   "id": "located-annex",
   "metadata": {},
   "outputs": [],
   "source": [
    "hoy_estamos_solos = False"
   ]
  },
  {
   "cell_type": "code",
   "execution_count": 36,
   "id": "simplified-exchange",
   "metadata": {},
   "outputs": [],
   "source": [
    "queremos_a_ana = True"
   ]
  },
  {
   "cell_type": "code",
   "execution_count": 37,
   "id": "attended-ghost",
   "metadata": {},
   "outputs": [
    {
     "data": {
      "text/plain": [
       "True"
      ]
     },
     "execution_count": 37,
     "metadata": {},
     "output_type": "execute_result"
    }
   ],
   "source": [
    "not hoy_estamos_solos"
   ]
  },
  {
   "cell_type": "code",
   "execution_count": 38,
   "id": "computational-radius",
   "metadata": {},
   "outputs": [
    {
     "data": {
      "text/plain": [
       "False"
      ]
     },
     "execution_count": 38,
     "metadata": {},
     "output_type": "execute_result"
    }
   ],
   "source": [
    "not queremos_a_ana"
   ]
  },
  {
   "cell_type": "code",
   "execution_count": 39,
   "id": "complicated-batman",
   "metadata": {},
   "outputs": [],
   "source": [
    "ay = 3<1 or hola"
   ]
  },
  {
   "cell_type": "code",
   "execution_count": 40,
   "id": "hearing-repair",
   "metadata": {},
   "outputs": [
    {
     "data": {
      "text/plain": [
       "False"
      ]
     },
     "execution_count": 40,
     "metadata": {},
     "output_type": "execute_result"
    }
   ],
   "source": [
    "not ay"
   ]
  },
  {
   "cell_type": "markdown",
   "id": "civil-cookie",
   "metadata": {},
   "source": [
    "#### Extra para Nerds 🤓(echad un ojo y jugad con las celdas de abajo)"
   ]
  },
  {
   "cell_type": "markdown",
   "id": "optimum-czech",
   "metadata": {},
   "source": [
    "Las cosas pueden complicarse cuando combinamos varias expresiones lógicas... Consideremos, por ejemplo, las llamadas [leyes de De Morgan](https://en.wikipedia.org/wiki/De_Morgan%27s_laws):\n",
    "\n",
    "Las reglas se pueden expresar en español como:\n",
    "- La negación de la conjunción es la disyunción de las negaciones.\n",
    "- La negación de la disyunción es la conjunción de las negaciones.\n",
    "\n",
    "\n",
    "* not (A o B) = not A y not B\n",
    "* not (A y B) = no A o no B\n",
    "\n",
    "El [álgebra booleana](https://en.wikipedia.org/wiki/Boolean_algebra#Laws) satisface muchas reglas comunes como la conmutatividad, la asociatividad, etc. Pero aquí tratamos de mantener la sencillez y aprender con la práctica."
   ]
  },
  {
   "cell_type": "code",
   "execution_count": 51,
   "id": "excited-climate",
   "metadata": {},
   "outputs": [],
   "source": [
    "a = True"
   ]
  },
  {
   "cell_type": "code",
   "execution_count": 52,
   "id": "manual-rogers",
   "metadata": {},
   "outputs": [],
   "source": [
    "b = False"
   ]
  },
  {
   "cell_type": "code",
   "execution_count": 44,
   "id": "emerging-divorce",
   "metadata": {},
   "outputs": [
    {
     "ename": "NameError",
     "evalue": "name 'marc' is not defined",
     "output_type": "error",
     "traceback": [
      "\u001b[0;31m---------------------------------------------------------------------------\u001b[0m",
      "\u001b[0;31mNameError\u001b[0m                                 Traceback (most recent call last)",
      "\u001b[0;32m<ipython-input-44-70e456fbb490>\u001b[0m in \u001b[0;36m<module>\u001b[0;34m\u001b[0m\n\u001b[0;32m----> 1\u001b[0;31m \u001b[0;32mnot\u001b[0m \u001b[0mmarc\u001b[0m\u001b[0;34m\u001b[0m\u001b[0;34m\u001b[0m\u001b[0m\n\u001b[0m",
      "\u001b[0;31mNameError\u001b[0m: name 'marc' is not defined"
     ]
    }
   ],
   "source": [
    "not marc # variable que no hemos definido"
   ]
  },
  {
   "cell_type": "code",
   "execution_count": 46,
   "id": "spanish-mineral",
   "metadata": {},
   "outputs": [
    {
     "data": {
      "text/plain": [
       "True"
      ]
     },
     "execution_count": 46,
     "metadata": {},
     "output_type": "execute_result"
    }
   ],
   "source": [
    "not a"
   ]
  },
  {
   "cell_type": "code",
   "execution_count": 47,
   "id": "convertible-manner",
   "metadata": {},
   "outputs": [],
   "source": [
    "frase =\"hola\""
   ]
  },
  {
   "cell_type": "code",
   "execution_count": 48,
   "id": "encouraging-pension",
   "metadata": {},
   "outputs": [
    {
     "data": {
      "text/plain": [
       "False"
      ]
     },
     "execution_count": 48,
     "metadata": {},
     "output_type": "execute_result"
    }
   ],
   "source": [
    "not frase"
   ]
  },
  {
   "cell_type": "code",
   "execution_count": 49,
   "id": "signed-still",
   "metadata": {},
   "outputs": [],
   "source": [
    "vacio = \"\""
   ]
  },
  {
   "cell_type": "code",
   "execution_count": 50,
   "id": "retained-grade",
   "metadata": {},
   "outputs": [
    {
     "data": {
      "text/plain": [
       "True"
      ]
     },
     "execution_count": 50,
     "metadata": {},
     "output_type": "execute_result"
    }
   ],
   "source": [
    "not vacio"
   ]
  },
  {
   "cell_type": "code",
   "execution_count": 53,
   "id": "german-manhattan",
   "metadata": {},
   "outputs": [
    {
     "data": {
      "text/plain": [
       "False"
      ]
     },
     "execution_count": 53,
     "metadata": {},
     "output_type": "execute_result"
    }
   ],
   "source": [
    "not (a or b)"
   ]
  },
  {
   "cell_type": "code",
   "execution_count": 54,
   "id": "third-organizer",
   "metadata": {},
   "outputs": [
    {
     "data": {
      "text/plain": [
       "True"
      ]
     },
     "execution_count": 54,
     "metadata": {},
     "output_type": "execute_result"
    }
   ],
   "source": [
    "not (a and b)"
   ]
  },
  {
   "cell_type": "markdown",
   "id": "bizarre-subdivision",
   "metadata": {},
   "source": [
    "## Identity operators"
   ]
  },
  {
   "cell_type": "markdown",
   "id": "educated-involvement",
   "metadata": {},
   "source": [
    "Los operadores de pertenencia, también conocidos como operadores miembro, permiten comprobar si un dato forma parte o no de una colección: una lista, una tupla, un string, etc.\n",
    "    El operador `in` tiene la sintaxis `elemento in contenedor`. Se trata de un operador booleano que comprueba si el elemento forma parte del contenedor. En caso afirmativo devuelve True y en caso negativo False"
   ]
  },
  {
   "cell_type": "code",
   "execution_count": 55,
   "id": "natural-capitol",
   "metadata": {},
   "outputs": [],
   "source": [
    "nums = [7,12,25,14,32]"
   ]
  },
  {
   "cell_type": "code",
   "execution_count": 56,
   "id": "preceding-custom",
   "metadata": {},
   "outputs": [],
   "source": [
    "a = 7"
   ]
  },
  {
   "cell_type": "code",
   "execution_count": 57,
   "id": "beginning-grass",
   "metadata": {},
   "outputs": [
    {
     "data": {
      "text/plain": [
       "True"
      ]
     },
     "execution_count": 57,
     "metadata": {},
     "output_type": "execute_result"
    }
   ],
   "source": [
    "a in nums"
   ]
  },
  {
   "cell_type": "code",
   "execution_count": 58,
   "id": "compressed-subsection",
   "metadata": {},
   "outputs": [
    {
     "data": {
      "text/plain": [
       "False"
      ]
     },
     "execution_count": 58,
     "metadata": {},
     "output_type": "execute_result"
    }
   ],
   "source": [
    "13 in nums "
   ]
  },
  {
   "cell_type": "code",
   "execution_count": 59,
   "id": "vital-denial",
   "metadata": {
    "scrolled": true
   },
   "outputs": [
    {
     "data": {
      "text/plain": [
       "False"
      ]
     },
     "execution_count": 59,
     "metadata": {},
     "output_type": "execute_result"
    }
   ],
   "source": [
    "\"hola\" in nums"
   ]
  },
  {
   "cell_type": "code",
   "execution_count": 60,
   "id": "pleased-drilling",
   "metadata": {},
   "outputs": [],
   "source": [
    "cadena = \"holaholahola\""
   ]
  },
  {
   "cell_type": "code",
   "execution_count": 61,
   "id": "australian-static",
   "metadata": {},
   "outputs": [
    {
     "data": {
      "text/plain": [
       "True"
      ]
     },
     "execution_count": 61,
     "metadata": {},
     "output_type": "execute_result"
    }
   ],
   "source": [
    "\"hola\" in cadena"
   ]
  },
  {
   "cell_type": "markdown",
   "id": "attended-assurance",
   "metadata": {},
   "source": [
    "# Control Flow"
   ]
  },
  {
   "cell_type": "markdown",
   "id": "environmental-medium",
   "metadata": {},
   "source": [
    "En los lenguajes imperativos, como Python, el ordenador sigue la secuencia de instrucciones del código y lo ejecuta línea a línea. Denominamos \"flujo\" de un programa al orden en la ejecución del código. Este orden secuencial puede alterarse. La llamada a una función, por ejemplo, lleva la ejecución al código en su interior (el \"cuerpo\" de la función) para regresar inmediatamente después de dicha llamada y continuar.    \n",
    "La ejecución es similar a nuestra atención en un proceso de limpieza de la casa, por ejemplo, solo podemos hacer una tarea a la vez. Estamos barriendo, pero al terminar de barrear golpeamos un jarrón (imagina que me lo regaló mi tía y qué ilusión) , entonces recogemos los trozos antes de ponernos a fregar. Fregando encontramos el chicle perdido de nuestro sobrino bajo el sofá, lo cual nos obliga a ir a buscar una espátula para quitarlo..... \n",
    "Pero solo podemos hacer una tarea a la vez. 🥲"
   ]
  },
  {
   "cell_type": "markdown",
   "id": "opening-gates",
   "metadata": {},
   "source": [
    "## Pseudocódigo"
   ]
  },
  {
   "cell_type": "markdown",
   "id": "joint-customs",
   "metadata": {},
   "source": [
    "El pseudocódigo es un método de planificación que permite al programador planificar sin preocuparse por la sintaxis."
   ]
  },
  {
   "cell_type": "markdown",
   "id": "short-survey",
   "metadata": {},
   "source": [
    "--> https://es.wikipedia.org/wiki/Pseudoc%C3%B3digo"
   ]
  },
  {
   "cell_type": "code",
   "execution_count": 62,
   "id": "designed-addiction",
   "metadata": {},
   "outputs": [
    {
     "data": {
      "text/plain": [
       "'\\ndef funcion ():\\n    #condicional para comprobar si ds variables son iguales:\\n        imprimo el resultado\\n        '"
      ]
     },
     "execution_count": 62,
     "metadata": {},
     "output_type": "execute_result"
    }
   ],
   "source": [
    "\"\"\"\n",
    "Comentario con varias líneas\n",
    "\"\"\"\n",
    "# Comentario de una linea\n",
    "\"\"\"\n",
    "def funcion ():\n",
    "    #condicional para comprobar si ds variables son iguales:\n",
    "        imprimo el resultado\n",
    "        \"\"\""
   ]
  },
  {
   "cell_type": "code",
   "execution_count": 65,
   "id": "greek-lover",
   "metadata": {},
   "outputs": [
    {
     "data": {
      "text/plain": [
       "'\\ndef funcion_diccinario (argumentos???):\\n    bucle for que itere por las keys de mi diccionario:\\n        veo si el value de mi key es X:\\n            devuelve True o False'"
      ]
     },
     "execution_count": 65,
     "metadata": {},
     "output_type": "execute_result"
    }
   ],
   "source": [
    "\"\"\"\n",
    "def funcion_diccinario (argumentos???):\n",
    "    bucle for que itere por las keys de mi diccionario:\n",
    "        veo si el value de mi key es X:\n",
    "            devuelve True o False\"\"\""
   ]
  },
  {
   "cell_type": "markdown",
   "id": "assured-guidance",
   "metadata": {},
   "source": [
    "## La sentencia \"If \n",
    "Esta es la opción más conocida para controlar el flujo de un programa. Las condiciones permiten elegir entre diferentes caminos en función del valor de una expresión.Cuando se quiere ejecutar una acción sólo cuando alguna condición es `Verdadera` se utiliza una sentencia \"if\":"
   ]
  },
  {
   "cell_type": "code",
   "execution_count": 66,
   "id": "pediatric-polyester",
   "metadata": {},
   "outputs": [
    {
     "name": "stdout",
     "output_type": "stream",
     "text": [
      "La condición se cumple\n"
     ]
    }
   ],
   "source": [
    "condicion = True\n",
    "if condicion:\n",
    "    print(\"La condición se cumple\")"
   ]
  },
  {
   "cell_type": "code",
   "execution_count": 68,
   "id": "absent-optics",
   "metadata": {},
   "outputs": [
    {
     "name": "stdout",
     "output_type": "stream",
     "text": [
      "La condición NO se cumple\n"
     ]
    }
   ],
   "source": [
    "condicion2 = False\n",
    "if condicion2:\n",
    "    print(\"La condición se cumple\")\n",
    "    \n",
    "print(\"La condición NO se cumple\")"
   ]
  },
  {
   "cell_type": "code",
   "execution_count": 69,
   "id": "opened-maria",
   "metadata": {},
   "outputs": [
    {
     "name": "stdout",
     "output_type": "stream",
     "text": [
      "mi lista tiene cositas\n"
     ]
    }
   ],
   "source": [
    "lista = [3,6,18,23,89]\n",
    "if len(lista) !=0:\n",
    "    print(\"mi lista tiene cositas\")"
   ]
  },
  {
   "cell_type": "markdown",
   "id": "southeast-shakespeare",
   "metadata": {},
   "source": [
    "Como podemos ver, el bloque de código asociado a la condición comienza después de los dos puntos \":\", con una sangría que determina el bloque de código. Todas las instrucciones pertenecientes al mismo bloque deben tener la misma sangría. El bloque termina cuando la sangría vuelve a la posición inicial de la sentencia if. Recuerde que Python utiliza la sangría para identificar los bloques de código."
   ]
  },
  {
   "cell_type": "code",
   "execution_count": null,
   "id": "thrown-money",
   "metadata": {},
   "outputs": [],
   "source": [
    "# es tu turno!\n",
    "# escribe un programa simple que imprima si bob puede entrar en la discoteca\n",
    "# para dos valores cualesquiera de las siguientes variables:"
   ]
  },
  {
   "cell_type": "markdown",
   "id": "described-bikini",
   "metadata": {},
   "source": [
    "### Vuestros ejemplos 🚀"
   ]
  },
  {
   "cell_type": "code",
   "execution_count": 71,
   "id": "attended-steps",
   "metadata": {},
   "outputs": [],
   "source": [
    "#print(edad_bob,edad_minima)\n",
    "edad_bob = 17\n",
    "edad_min = 18"
   ]
  },
  {
   "cell_type": "code",
   "execution_count": 78,
   "id": "ranking-creator",
   "metadata": {
    "scrolled": true
   },
   "outputs": [
    {
     "name": "stdout",
     "output_type": "stream",
     "text": [
      "Introducir edad: 12\n"
     ]
    }
   ],
   "source": [
    "bob = int(input(\"Introducir edad: \"))"
   ]
  },
  {
   "cell_type": "code",
   "execution_count": 80,
   "id": "heated-martin",
   "metadata": {},
   "outputs": [
    {
     "name": "stdout",
     "output_type": "stream",
     "text": [
      "Te quedas fuera Bob\n"
     ]
    }
   ],
   "source": [
    "if bob >= 18:\n",
    "    print(\"Bob entra en discoteca\")\n",
    "if bob < 18:\n",
    "    print(\"Te quedas fuera Bob\")"
   ]
  },
  {
   "cell_type": "code",
   "execution_count": 81,
   "id": "swedish-teaching",
   "metadata": {},
   "outputs": [
    {
     "name": "stdout",
     "output_type": "stream",
     "text": [
      "Te quedas fuera Bob\n"
     ]
    }
   ],
   "source": [
    "# Ejemplo para ver como el código sigue leyendose después del if.\n",
    "if bob >= 18:\n",
    "    print(\"Bob entra en discoteca\")\n",
    "\n",
    "print(\"Te quedas fuera Bob\") #esta línea se va a ejecutar siempre se cumple "
   ]
  },
  {
   "cell_type": "code",
   "execution_count": 79,
   "id": "positive-caribbean",
   "metadata": {},
   "outputs": [
    {
     "name": "stdout",
     "output_type": "stream",
     "text": [
      "Pa' tu casa Bob\n"
     ]
    }
   ],
   "source": [
    "n = 0\n",
    "if bob >= 18:\n",
    "    print(\"Estás dentro\")\n",
    "    n=1\n",
    "\n",
    "if n==0:\n",
    "    print(\"Pa' tu casa Bob\")"
   ]
  },
  {
   "cell_type": "code",
   "execution_count": 112,
   "id": "independent-technology",
   "metadata": {},
   "outputs": [],
   "source": [
    "if nombre == \"Cesar\" or nombre ==\"Rodrigo\":\n",
    "    print(\"Buenas!!\")"
   ]
  },
  {
   "cell_type": "markdown",
   "id": "approximate-lexington",
   "metadata": {},
   "source": [
    "### else\n",
    "A veces se quiere que si la condición no se cumple (y sólo entonces) se ejecute otra acción. Son acciones mutuamente excluyentes. Esto se consigue con la sentencia `else`."
   ]
  },
  {
   "cell_type": "markdown",
   "id": "median-injection",
   "metadata": {},
   "source": [
    "![if](../images/if-else-statements.jpeg)"
   ]
  },
  {
   "cell_type": "code",
   "execution_count": 85,
   "id": "flush-width",
   "metadata": {},
   "outputs": [],
   "source": [
    "antonio = 25"
   ]
  },
  {
   "cell_type": "code",
   "execution_count": 87,
   "id": "clean-selling",
   "metadata": {},
   "outputs": [
    {
     "name": "stdout",
     "output_type": "stream",
     "text": [
      "Antonio entra en discoteca\n"
     ]
    }
   ],
   "source": [
    "if antonio >= 18:\n",
    "    print(\"Antonio entra en discoteca\")\n",
    "\n",
    "else:\n",
    "    print(\"Te quedas fuera Antonio\")"
   ]
  },
  {
   "cell_type": "code",
   "execution_count": 88,
   "id": "small-brooks",
   "metadata": {},
   "outputs": [],
   "source": [
    "# Modifica tu programa para que cuando Bob no pueda acceder a la disco haya un mensaje de impresión diferente:"
   ]
  },
  {
   "cell_type": "code",
   "execution_count": 95,
   "id": "manufactured-currency",
   "metadata": {},
   "outputs": [],
   "source": [
    "nombre = \"Cesar\""
   ]
  },
  {
   "cell_type": "code",
   "execution_count": 94,
   "id": "resident-hopkins",
   "metadata": {},
   "outputs": [
    {
     "name": "stdout",
     "output_type": "stream",
     "text": [
      "¿Tu quién eres?\n"
     ]
    }
   ],
   "source": [
    "if nombre == \"Cesar\":\n",
    "    print(\"Bienvenido César\")\n",
    "else:\n",
    "    print(\"¿Tu quién eres?\")"
   ]
  },
  {
   "cell_type": "markdown",
   "id": "violent-speaker",
   "metadata": {},
   "source": [
    "### elif\n",
    "A veces hay más de dos posibilidades. Piensa en algo como:\n",
    "\"Si Bob puede entrar en la discoteca, déjale entrar. Si no, si tiene más de 16 años, recomiéndale la discoteca light cercana. Si no, envíalo a casa\".\n",
    "\n",
    "Podemos conseguirlo con la cláusula `elif` y los condicionales encadenados:"
   ]
  },
  {
   "cell_type": "markdown",
   "id": "behind-ghana",
   "metadata": {},
   "source": [
    "```python\n",
    "if nosequé:\n",
    "    nosecuantos\n",
    "if otracosa:\n",
    "    nosecuantitos\n",
    "```\n",
    "\n",
    "💩 Es computacionalmente más eficiente utilizar elif, aunque este código funciona, Python va a entrar a comprobar todos los if"
   ]
  },
  {
   "cell_type": "code",
   "execution_count": 110,
   "id": "residential-greek",
   "metadata": {},
   "outputs": [],
   "source": [
    "nombre = \"Cesar\""
   ]
  },
  {
   "cell_type": "code",
   "execution_count": 101,
   "id": "stock-dependence",
   "metadata": {},
   "outputs": [
    {
     "name": "stdout",
     "output_type": "stream",
     "text": [
      "¿Eso qué es?\n"
     ]
    }
   ],
   "source": [
    "if nombre == \"Cesar\":\n",
    "    print(\"Bienvenido César\")\n",
    "elif nombre == \"Rodrigo\":\n",
    "    print(\"Bienvenido\")\n",
    "else:\n",
    "    print(\"¿Eso qué es?\")"
   ]
  },
  {
   "cell_type": "code",
   "execution_count": null,
   "id": "foster-formation",
   "metadata": {},
   "outputs": [],
   "source": [
    "\"\"\"\n",
    "Modifica tu programa para que cuando Bob no pueda acceder a la discoteca pero esté por encima de la edad legal\n",
    "lo envíes a la disco light\n",
    "\"\"\""
   ]
  },
  {
   "cell_type": "markdown",
   "id": "significant-bulgarian",
   "metadata": {},
   "source": [
    "Vuestro código 🔥🔝"
   ]
  },
  {
   "cell_type": "code",
   "execution_count": 124,
   "id": "published-hunger",
   "metadata": {},
   "outputs": [
    {
     "name": "stdout",
     "output_type": "stream",
     "text": [
      "Introducir edad de Bob: 16\n"
     ]
    }
   ],
   "source": [
    "discoteca_normal = 18\n",
    "discoteca_light = 14\n",
    "bob = int(input(\"Introducir edad de Bob: \"))\n"
   ]
  },
  {
   "cell_type": "code",
   "execution_count": 120,
   "id": "hybrid-alfred",
   "metadata": {},
   "outputs": [
    {
     "name": "stdout",
     "output_type": "stream",
     "text": [
      "Puede comprar chucches o irse a la light\n"
     ]
    }
   ],
   "source": [
    "# Ejemplo 1\n",
    "if bob >= 18:\n",
    "    print(\"Puede ir a la disco de mayores\")\n",
    "    \n",
    "elif bob >= 14:\n",
    "    print(\"Puede comprar chucches o irse a la light\")\n",
    "\n",
    "else:\n",
    "    print( \"A casa Bob!!\")"
   ]
  },
  {
   "cell_type": "code",
   "execution_count": 125,
   "id": "choice-uncle",
   "metadata": {},
   "outputs": [
    {
     "name": "stdout",
     "output_type": "stream",
     "text": [
      "Con los niños\n"
     ]
    }
   ],
   "source": [
    "# Ejemplo 2\n",
    "if 16 <= bob < 18:\n",
    "    print(\"Con los niños\")\n",
    "    \n",
    "elif bob >= 18:\n",
    "    print (\"Pa'dentro\")\n",
    "    \n",
    "else:\n",
    "    print(\"Al parque a jugar\")"
   ]
  },
  {
   "cell_type": "code",
   "execution_count": null,
   "id": "transparent-nickname",
   "metadata": {},
   "outputs": [],
   "source": [
    "# Por último, ¡las cosas pueden ser tan salvajes como queramos con los condicionales anidados!"
   ]
  },
  {
   "cell_type": "code",
   "execution_count": null,
   "id": "disciplinary-helena",
   "metadata": {},
   "outputs": [],
   "source": [
    "# Un simple programa de \"comparación de dos números\". ¿Puedes entenderlo?\n",
    "# Es el mismo ejemplo que anterior, pero con else anidado, sin elif"
   ]
  },
  {
   "cell_type": "markdown",
   "id": "continuous-identifier",
   "metadata": {},
   "source": [
    "Vuestro código 🔥🔝"
   ]
  },
  {
   "cell_type": "markdown",
   "id": "whole-reservoir",
   "metadata": {},
   "source": [
    "Escribe un programa en Python que solicite un número del 1 al 12 e imprima el mes del año correspondiente."
   ]
  },
  {
   "cell_type": "code",
   "execution_count": 128,
   "id": "dimensional-rachel",
   "metadata": {},
   "outputs": [
    {
     "name": "stdout",
     "output_type": "stream",
     "text": [
      "mes de nacimiento(del 1 al 12): 20\n"
     ]
    }
   ],
   "source": [
    "mes_nacimiento = int(input(\"mes de nacimiento(del 1 al 12): \"))"
   ]
  },
  {
   "cell_type": "code",
   "execution_count": 130,
   "id": "monetary-malpractice",
   "metadata": {},
   "outputs": [
    {
     "name": "stdout",
     "output_type": "stream",
     "text": [
      "Lo has hecho mal\n"
     ]
    }
   ],
   "source": [
    "if mes_nacimiento == 1:\n",
    "    print(\"has nacido en enero\")\n",
    "elif mes_nacimiento == 2:\n",
    "    print(\"has nacido en febrero\")\n",
    "elif mes_nacimiento == 3:\n",
    "    print(\"has nacido en marzo\")\n",
    "elif mes_nacimiento == 4:\n",
    "    print(\"has nacido en abril\")\n",
    "elif mes_nacimiento == 5:\n",
    "    print(\"has nacido en mayo\")\n",
    "elif mes_nacimiento == 6:\n",
    "    print(\"has nacido en junio\")\n",
    "elif mes_nacimiento == 7:\n",
    "    print(\"has nacido en julio\")\n",
    "elif mes_nacimiento == 8:\n",
    "    print(\"has nacido en agosto\")\n",
    "elif mes_nacimiento == 9:\n",
    "    print(\"has nacido en septiembre\")\n",
    "elif mes_nacimiento == 10:\n",
    "    print(\"has nacido en octubre\")\n",
    "elif mes_nacimiento == 11:\n",
    "    print(\"has nacido en noviembre\")\n",
    "elif mes_nacimiento == 12:\n",
    "    print(\"has nacido en diciembre\")\n",
    "else :\n",
    "    print(\"Lo has hecho mal\")"
   ]
  },
  {
   "cell_type": "code",
   "execution_count": 131,
   "id": "injured-destiny",
   "metadata": {},
   "outputs": [
    {
     "data": {
      "text/plain": [
       "{1: 'January',\n",
       " 2: 'February',\n",
       " 3: 'March',\n",
       " 4: 'April',\n",
       " 5: 'May',\n",
       " 6: 'June',\n",
       " 7: 'July',\n",
       " 8: 'August',\n",
       " 9: 'September',\n",
       " 10: 'Octouber',\n",
       " 11: 'November',\n",
       " 12: 'Descember'}"
      ]
     },
     "execution_count": 131,
     "metadata": {},
     "output_type": "execute_result"
    }
   ],
   "source": [
    "months = {1:'January',2:'February', 3:'March', 4:'April', 5:'May', 6:'June', 7:'July', 8:'August', 9:'September', 10: 'Octouber',11:'November',12:'Descember'}\n",
    "months"
   ]
  },
  {
   "cell_type": "code",
   "execution_count": 138,
   "id": "south-suspect",
   "metadata": {},
   "outputs": [
    {
     "name": "stdout",
     "output_type": "stream",
     "text": [
      "Please write a number between 1 and 12:  a\n"
     ]
    },
    {
     "ename": "ValueError",
     "evalue": "invalid literal for int() with base 10: 'a'",
     "output_type": "error",
     "traceback": [
      "\u001b[0;31m---------------------------------------------------------------------------\u001b[0m",
      "\u001b[0;31mValueError\u001b[0m                                Traceback (most recent call last)",
      "\u001b[0;32m<ipython-input-138-78cd8a2bd450>\u001b[0m in \u001b[0;36m<module>\u001b[0;34m\u001b[0m\n\u001b[0;32m----> 1\u001b[0;31m \u001b[0mmonth_user\u001b[0m \u001b[0;34m=\u001b[0m \u001b[0mint\u001b[0m\u001b[0;34m(\u001b[0m\u001b[0minput\u001b[0m\u001b[0;34m(\u001b[0m\u001b[0;34m'Please write a number between 1 and 12:  '\u001b[0m\u001b[0;34m)\u001b[0m\u001b[0;34m)\u001b[0m\u001b[0;34m\u001b[0m\u001b[0;34m\u001b[0m\u001b[0m\n\u001b[0m",
      "\u001b[0;31mValueError\u001b[0m: invalid literal for int() with base 10: 'a'"
     ]
    }
   ],
   "source": [
    "month_user = int(input('Please write a number between 1 and 12:  '))"
   ]
  },
  {
   "cell_type": "code",
   "execution_count": 137,
   "id": "aboriginal-indiana",
   "metadata": {},
   "outputs": [
    {
     "name": "stdout",
     "output_type": "stream",
     "text": [
      "That number is not in range\n"
     ]
    }
   ],
   "source": [
    "if month_user in range(1,13):\n",
    "    print(months[month_user])\n",
    "else:\n",
    "    print('That number is not in range')"
   ]
  },
  {
   "cell_type": "code",
   "execution_count": 139,
   "id": "touched-violin",
   "metadata": {},
   "outputs": [
    {
     "name": "stdout",
     "output_type": "stream",
     "text": [
      "escribe un numero del 1 al 12: 9\n",
      "septiembre\n"
     ]
    }
   ],
   "source": [
    "mes = int(input(\"escribe un numero del 1 al 12: \"))\n",
    "dic = {1:\"enero\", 2:\"febrero\", 3:\"marzo\", 4:\"abril\", 5:\"mayo\", 6:\"junio\", 7:\"julio\", 8:\"agosto\", 9:\"septiembre\", 10:\"octubre\", 11:\"noviembre\", 12:\"diciembre\"}\n",
    "if dic.get(mes):\n",
    "    print(dic.get(mes))\n",
    "else:\n",
    "    print(\"por favor escribe del 1 al 12\")"
   ]
  },
  {
   "cell_type": "code",
   "execution_count": 140,
   "id": "challenging-ebony",
   "metadata": {},
   "outputs": [
    {
     "data": {
      "text/plain": [
       "'\\nSi quiero poner una variable comprendida entre dos números uso and\\n'"
      ]
     },
     "execution_count": 140,
     "metadata": {},
     "output_type": "execute_result"
    }
   ],
   "source": [
    "\"\"\"\n",
    "Si quiero poner una variable comprendida entre dos números uso and\n",
    "\"\"\""
   ]
  },
  {
   "cell_type": "code",
   "execution_count": 141,
   "id": "annoying-subscriber",
   "metadata": {},
   "outputs": [],
   "source": [
    "# Más ejemplos!"
   ]
  },
  {
   "cell_type": "markdown",
   "id": "joined-paradise",
   "metadata": {},
   "source": [
    "Imaginemos que estamos construyendo el programa para un robot clasificador de huevos por tamaño. Nuestro brazo robot recibe la información de una balanza, la cual le indica, en gramos, el peso del huevo que debe clasificar. El brazo debe, a partir del peso, ubicar el huevo en una caja u otra como sigue:   \n",
    "**Caja S** (pequeños) : peso menor a 53 gramos.   \n",
    "**Caja M** (medianos) : peso mayor o igual a 53 gramos e inferior a 63 gramos.   \n",
    "**Caja L** (grandes): peso mayor o igual a 63 gramos e inferior a 73 gramos.   \n",
    "**Caja XL** (súper grandes): peso mayor o igual a 73 gramos.   "
   ]
  },
  {
   "cell_type": "markdown",
   "id": "exact-messenger",
   "metadata": {},
   "source": [
    "Con lo que hemos visto ya somos capaces de resolver el problema, gracias a la posibilidad de anidar estructuras:"
   ]
  },
  {
   "cell_type": "code",
   "execution_count": null,
   "id": "seasonal-ribbon",
   "metadata": {},
   "outputs": [],
   "source": [
    "# Tu turno!"
   ]
  },
  {
   "cell_type": "code",
   "execution_count": null,
   "id": "sporting-heavy",
   "metadata": {},
   "outputs": [],
   "source": []
  },
  {
   "cell_type": "code",
   "execution_count": null,
   "id": "trained-newport",
   "metadata": {},
   "outputs": [],
   "source": []
  },
  {
   "cell_type": "code",
   "execution_count": null,
   "id": "awful-fight",
   "metadata": {},
   "outputs": [],
   "source": [
    "#Sin elif"
   ]
  },
  {
   "cell_type": "code",
   "execution_count": null,
   "id": "coastal-contact",
   "metadata": {},
   "outputs": [],
   "source": []
  },
  {
   "cell_type": "code",
   "execution_count": null,
   "id": "maritime-subdivision",
   "metadata": {},
   "outputs": [],
   "source": [
    "import time"
   ]
  },
  {
   "cell_type": "code",
   "execution_count": null,
   "id": "dedicated-family",
   "metadata": {},
   "outputs": [],
   "source": []
  },
  {
   "cell_type": "code",
   "execution_count": null,
   "id": "fatty-landing",
   "metadata": {},
   "outputs": [],
   "source": []
  },
  {
   "cell_type": "code",
   "execution_count": null,
   "id": "promising-cotton",
   "metadata": {},
   "outputs": [],
   "source": []
  },
  {
   "cell_type": "markdown",
   "id": "dependent-viewer",
   "metadata": {},
   "source": [
    "## Summary \n",
    "Es tu turno: ¿Qué hemos aprendido?\n",
    "- Operadores matemáticos\n",
    "- Operadores de identidad\n",
    "- Operadores Booleanos\n",
    "- Operadores relacionales\n",
    "- Operadores de asignación: =, +=, -= ...\n",
    "- Pseudocódigo. Borrador sin sintaxis de python para escribir el código más tarde.\n",
    "- Control flow\n",
    "- Sentence if / elif/ else"
   ]
  },
  {
   "cell_type": "markdown",
   "id": "toxic-romance",
   "metadata": {},
   "source": [
    "## Further materials\n",
    "\n",
    "* [Python docs](https://docs.python.org/3/tutorial/controlflow.html)\n",
    "* Short tutorial on [Python Booleans](https://realpython.com/python-boolean/\n",
    "* Just a nice [talk by Feynman](https://www.youtube.com/watch?v=EKWGGDXe5MA) on the principles of computation"
   ]
  }
 ],
 "metadata": {
  "kernelspec": {
   "display_name": "ironhack",
   "language": "python",
   "name": "ironhack"
  },
  "language_info": {
   "codemirror_mode": {
    "name": "ipython",
    "version": 3
   },
   "file_extension": ".py",
   "mimetype": "text/x-python",
   "name": "python",
   "nbconvert_exporter": "python",
   "pygments_lexer": "ipython3",
   "version": "3.8.5"
  },
  "toc": {
   "base_numbering": 1,
   "nav_menu": {},
   "number_sections": true,
   "sideBar": true,
   "skip_h1_title": true,
   "title_cell": "Table of Contents",
   "title_sidebar": "Contents",
   "toc_cell": true,
   "toc_position": {},
   "toc_section_display": true,
   "toc_window_display": false
  },
  "varInspector": {
   "cols": {
    "lenName": 16,
    "lenType": 16,
    "lenVar": 40
   },
   "kernels_config": {
    "python": {
     "delete_cmd_postfix": "",
     "delete_cmd_prefix": "del ",
     "library": "var_list.py",
     "varRefreshCmd": "print(var_dic_list())"
    },
    "r": {
     "delete_cmd_postfix": ") ",
     "delete_cmd_prefix": "rm(",
     "library": "var_list.r",
     "varRefreshCmd": "cat(var_dic_list()) "
    }
   },
   "types_to_exclude": [
    "module",
    "function",
    "builtin_function_or_method",
    "instance",
    "_Feature"
   ],
   "window_display": false
  }
 },
 "nbformat": 4,
 "nbformat_minor": 5
}
