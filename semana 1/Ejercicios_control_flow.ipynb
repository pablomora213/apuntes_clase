{
 "cells": [
  {
   "cell_type": "markdown",
   "id": "grateful-diana",
   "metadata": {},
   "source": [
    "# Retos para practicar bucles y condicionales 🚀🙃"
   ]
  },
  {
   "cell_type": "markdown",
   "id": "hearing-spelling",
   "metadata": {},
   "source": [
    "![elgif](https://media.giphy.com/media/lngw0pFJezv9vWdDq/giphy.gif)"
   ]
  },
  {
   "cell_type": "markdown",
   "id": "labeled-circumstances",
   "metadata": {},
   "source": [
    "## Ejercicio  🚀 (Recap if/else)\n",
    "Los alumnos de un curso se han dividido en dos grupos A y B de acuerdo al sexo y el nombre. El grupo A esta formado por las mujeres con un nombre anterior a la M y los hombres con un nombre posterior a la N y el grupo B por el resto. Escribir un programa que pregunte al usuario su nombre y sexo, y muestre por pantalla el grupo que le corresponde."
   ]
  },
  {
   "cell_type": "code",
   "execution_count": 7,
   "id": "worst-wayne",
   "metadata": {},
   "outputs": [
    {
     "name": "stdout",
     "output_type": "stream",
     "text": [
      "Introduce tu nombre: mario\n",
      "Introduce tu sexo F o M: t\n",
      "Por favor vuelve a escribir el sexo\n"
     ]
    }
   ],
   "source": [
    "#Tu código aquí\n",
    "nombre = input(\"Introduce tu nombre: \")\n",
    "sexo = input(\"Introduce tu sexo F o M: \")\n",
    "\n",
    "import string\n",
    "abecedario = string.ascii_lowercase\n",
    "\n",
    "\n",
    "if nombre[:1] in abecedario[:13]:\n",
    "    if sexo == \"F\":\n",
    "        print(\"Perteneces al grupo A\")\n",
    "    elif sexo == \"M\":\n",
    "        print(\"Perteneces al grupo B\")\n",
    "    else:\n",
    "        print(\"Por favor vuelve a escribir el sexo\")\n",
    "elif nombre[:1] in abecedario[14:]:\n",
    "    if sexo == \"M\":\n",
    "        print(\"Perteneces al grupo A\")\n",
    "    elif sexo == \"F\":\n",
    "        print(\"Perteneces al grupo B\")\n",
    "    else:\n",
    "        print(\"Por favor vuelve a escribir el sexo\")\n",
    "else:\n",
    "    print(\"no perteneces a ningun grupo\")"
   ]
  },
  {
   "cell_type": "code",
   "execution_count": 33,
   "id": "moved-vertex",
   "metadata": {},
   "outputs": [
    {
     "name": "stdout",
     "output_type": "stream",
     "text": [
      "cual es tu sexo[H/M]m\n",
      "como te llamas?Sonia\n",
      "Grupo B\n"
     ]
    }
   ],
   "source": [
    "sex = input(\"cual es tu sexo[H/M]\")\n",
    "name = input(\"como te llamas?\")\n",
    "\n",
    "if ((sex == \"M\" or sex==\"m\") and name[:1]<\"M\") or ((sex == \"H\" or sex == \"h\") and name[:1]>\"N\"):\n",
    "    print(\"Grupo A \")\n",
    "elif ((sex == \"M\" or sex==\"m\") and name[:1]>\"N\") or ((sex == \"H\" or sex == \"h\") and name[:1]<\"M\"):\n",
    "    print(\"Grupo B\")\n",
    "else:\n",
    "    print(\"Algo has escrito mal\")\n"
   ]
  },
  {
   "cell_type": "markdown",
   "id": "aware-compound",
   "metadata": {},
   "source": [
    "## Ejercicio  🚀 (while)\n",
    "Lee los números enteros del teclado, hasta que el usuario introduzca el 0. Finalmente, muestra la suma de todos los números positivos introducidos."
   ]
  },
  {
   "cell_type": "code",
   "execution_count": 22,
   "id": "tamil-seeking",
   "metadata": {},
   "outputs": [
    {
     "name": "stdout",
     "output_type": "stream",
     "text": [
      "Escriba un numero 2\n",
      "Escriba un numero 3\n",
      "Escriba un numero 4\n",
      "Escriba un numero -1\n",
      "Escriba un numero 0\n",
      "[2, 3, 4, -1]\n",
      "El sumatorio de los numeros introducidos es :  8\n"
     ]
    }
   ],
   "source": [
    "#### Tu código aquí\n",
    "numero = int(input(\"Escriba un numero \"))\n",
    "lista = []\n",
    "\n",
    "while numero !=0 :\n",
    "  lista.append(numero)\n",
    "  numero = int(input(\"Escriba un numero \"))\n",
    "\n",
    "print(lista)    \n",
    "print(\"El sumatorio de los numeros introducidos es : \",(sum(lista)))"
   ]
  },
  {
   "cell_type": "markdown",
   "id": "middle-court",
   "metadata": {},
   "source": [
    "## Retocamos el 1 (while)\n",
    "Lee los números enteros del teclado, hasta que el usuario introduzca el 0. Finalmente, devuelve el mayor de los números introducidos\n"
   ]
  },
  {
   "cell_type": "code",
   "execution_count": 21,
   "id": "checked-sarah",
   "metadata": {},
   "outputs": [
    {
     "name": "stdout",
     "output_type": "stream",
     "text": [
      "pon un numerin: 2\n",
      "pon un numerin: -1\n",
      "pon un numerin: 8\n",
      "pon un numerin: 3\n",
      "pon un numerin: 0\n",
      "[2, -1, 8, 3]\n",
      "8\n"
     ]
    }
   ],
   "source": [
    "# Tu código aquí (una forma)\n",
    "num = int(input(\"pon un numerin: \"))\n",
    "lista = []\n",
    "\n",
    "while num != 0:\n",
    "    lista.append(num)\n",
    "    num = int(input(\"pon un numerin: \"))\n",
    "print(lista)    \n",
    "print(max(lista))"
   ]
  },
  {
   "cell_type": "markdown",
   "id": "persistent-freight",
   "metadata": {},
   "source": [
    "## Ejercicio  🚀\n",
    "Escribe un programa que pregunte al usuario por su edad y muestre todos los años que ha alcanzado (desde el 1 hasta su edad)."
   ]
  },
  {
   "cell_type": "code",
   "execution_count": 24,
   "id": "liable-origin",
   "metadata": {},
   "outputs": [
    {
     "name": "stdout",
     "output_type": "stream",
     "text": [
      "Write your age: 3\n",
      "1\n",
      "2\n",
      "3\n"
     ]
    }
   ],
   "source": [
    "# Tu código aquí\n",
    "age = int(input('Write your age: '))\n",
    "for i in range(1,age+1):\n",
    "    print(i)"
   ]
  },
  {
   "cell_type": "markdown",
   "id": "close-remainder",
   "metadata": {},
   "source": [
    "¿En qué años has vivido?"
   ]
  },
  {
   "cell_type": "code",
   "execution_count": 26,
   "id": "growing-excess",
   "metadata": {},
   "outputs": [
    {
     "name": "stdout",
     "output_type": "stream",
     "text": [
      "Write your age: 10\n",
      "2012\n",
      "2013\n",
      "2014\n",
      "2015\n",
      "2016\n",
      "2017\n",
      "2018\n",
      "2019\n",
      "2020\n",
      "2021\n",
      "2022\n"
     ]
    }
   ],
   "source": [
    "age = int(input('Write your age: '))\n",
    "for i in range(2022-age,2023):\n",
    "    print(i)"
   ]
  },
  {
   "cell_type": "markdown",
   "id": "handled-efficiency",
   "metadata": {},
   "source": [
    "## Ejercicio  🚀\n",
    "Escribir un programa que pida al usuario un número entero positivo y muestre por pantalla todos los números impares desde 1 hasta ese número separados por comas."
   ]
  },
  {
   "cell_type": "code",
   "execution_count": null,
   "id": "clean-stanley",
   "metadata": {},
   "outputs": [],
   "source": [
    "# Tu código aquí\n"
   ]
  },
  {
   "cell_type": "markdown",
   "id": "standing-binary",
   "metadata": {},
   "source": [
    "## Ejercicio  🚀\n",
    "Escribir un programa que pida al usuario una palabra y luego muestre por pantalla una a una las letras de la palabra introducida empezando por la última."
   ]
  },
  {
   "cell_type": "code",
   "execution_count": null,
   "id": "desperate-polymer",
   "metadata": {},
   "outputs": [],
   "source": [
    "#Tu código aquí\n"
   ]
  },
  {
   "cell_type": "code",
   "execution_count": null,
   "id": "measured-remains",
   "metadata": {},
   "outputs": [],
   "source": []
  }
 ],
 "metadata": {
  "kernelspec": {
   "display_name": "ironhack",
   "language": "python",
   "name": "ironhack"
  },
  "language_info": {
   "codemirror_mode": {
    "name": "ipython",
    "version": 3
   },
   "file_extension": ".py",
   "mimetype": "text/x-python",
   "name": "python",
   "nbconvert_exporter": "python",
   "pygments_lexer": "ipython3",
   "version": "3.8.5"
  },
  "toc": {
   "base_numbering": 1,
   "nav_menu": {},
   "number_sections": true,
   "sideBar": true,
   "skip_h1_title": true,
   "title_cell": "Table of Contents",
   "title_sidebar": "Contents",
   "toc_cell": false,
   "toc_position": {},
   "toc_section_display": true,
   "toc_window_display": false
  },
  "varInspector": {
   "cols": {
    "lenName": 16,
    "lenType": 16,
    "lenVar": 40
   },
   "kernels_config": {
    "python": {
     "delete_cmd_postfix": "",
     "delete_cmd_prefix": "del ",
     "library": "var_list.py",
     "varRefreshCmd": "print(var_dic_list())"
    },
    "r": {
     "delete_cmd_postfix": ") ",
     "delete_cmd_prefix": "rm(",
     "library": "var_list.r",
     "varRefreshCmd": "cat(var_dic_list()) "
    }
   },
   "types_to_exclude": [
    "module",
    "function",
    "builtin_function_or_method",
    "instance",
    "_Feature"
   ],
   "window_display": false
  }
 },
 "nbformat": 4,
 "nbformat_minor": 5
}
